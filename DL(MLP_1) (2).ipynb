{
  "nbformat": 4,
  "nbformat_minor": 0,
  "metadata": {
    "colab": {
      "provenance": []
    },
    "kernelspec": {
      "name": "python3",
      "display_name": "Python 3"
    },
    "language_info": {
      "name": "python"
    }
  },
  "cells": [
    {
      "cell_type": "code",
      "execution_count": null,
      "metadata": {
        "colab": {
          "base_uri": "https://localhost:8080/"
        },
        "id": "Ayw98_f5tVb9",
        "outputId": "5699a482-a6f5-4bcc-a8cf-af7c2eed0bca"
      },
      "outputs": [
        {
          "output_type": "stream",
          "name": "stdout",
          "text": [
            "     Number Sex  %Red Pixel  %Green pixel  %Blue pixel    Hb Anaemic\n",
            "0         1   M     43.2555       30.8421      25.9025   6.3     Yes\n",
            "1         2   F     45.6033       28.1900      26.2067  13.5      No\n",
            "2         3  F      45.0107       28.9677      26.0215  11.7      No\n",
            "3         4   F     44.5398       28.9899      26.4703  13.5      No\n",
            "4         5  M      43.2870       30.6972      26.0158  12.4      No\n",
            "..      ...  ..         ...           ...          ...   ...     ...\n",
            "99      100  F      49.9999       29.2860      20.7141  14.5     Yes\n",
            "100     101  M      42.2324       30.6757      27.0919   6.3     Yes\n",
            "101     102   F     45.6064       31.9084      22.4852  12.7      No\n",
            "102     103  M      45.2095       29.2769      25.5136  13.4      No\n",
            "103     104   F     43.5706       29.8094      26.6199  12.2      No\n",
            "\n",
            "[104 rows x 7 columns]\n"
          ]
        }
      ],
      "source": [
        "import pandas as pd\n",
        "dd=pd.read_csv(\"/content/output.csv\")\n",
        "print(dd)"
      ]
    },
    {
      "cell_type": "code",
      "source": [
        "from sklearn.model_selection import train_test_split\n",
        "from keras.models import Sequential\n",
        "from keras.layers import Dense"
      ],
      "metadata": {
        "id": "X8c2ID7q3Toz"
      },
      "execution_count": null,
      "outputs": []
    },
    {
      "cell_type": "code",
      "source": [
        "x=dd[[\"Number\",\"%Red Pixel\",\"%Green pixel\",\"%Blue pixel\",\"Hb\"]]\n",
        "print(x)\n"
      ],
      "metadata": {
        "colab": {
          "base_uri": "https://localhost:8080/"
        },
        "id": "pmR7ic1lvcIn",
        "outputId": "4864aa03-8aeb-462e-ef1e-1b2685d3cd4e"
      },
      "execution_count": null,
      "outputs": [
        {
          "output_type": "stream",
          "name": "stdout",
          "text": [
            "     Number  %Red Pixel  %Green pixel  %Blue pixel    Hb\n",
            "0         1     43.2555       30.8421      25.9025   6.3\n",
            "1         2     45.6033       28.1900      26.2067  13.5\n",
            "2         3     45.0107       28.9677      26.0215  11.7\n",
            "3         4     44.5398       28.9899      26.4703  13.5\n",
            "4         5     43.2870       30.6972      26.0158  12.4\n",
            "..      ...         ...           ...          ...   ...\n",
            "99      100     49.9999       29.2860      20.7141  14.5\n",
            "100     101     42.2324       30.6757      27.0919   6.3\n",
            "101     102     45.6064       31.9084      22.4852  12.7\n",
            "102     103     45.2095       29.2769      25.5136  13.4\n",
            "103     104     43.5706       29.8094      26.6199  12.2\n",
            "\n",
            "[104 rows x 5 columns]\n"
          ]
        }
      ]
    },
    {
      "cell_type": "code",
      "source": [
        "y=dd[[\"Anaemic\"]]\n",
        "print(y)\n",
        "print(y.shape)"
      ],
      "metadata": {
        "colab": {
          "base_uri": "https://localhost:8080/"
        },
        "id": "tUelX1M0xSkY",
        "outputId": "edaf7dd1-bb92-4cac-f181-8090ddbd0c38"
      },
      "execution_count": null,
      "outputs": [
        {
          "output_type": "stream",
          "name": "stdout",
          "text": [
            "    Anaemic\n",
            "0       Yes\n",
            "1        No\n",
            "2        No\n",
            "3        No\n",
            "4        No\n",
            "..      ...\n",
            "99      Yes\n",
            "100     Yes\n",
            "101      No\n",
            "102      No\n",
            "103      No\n",
            "\n",
            "[104 rows x 1 columns]\n",
            "(104, 1)\n"
          ]
        }
      ]
    },
    {
      "cell_type": "code",
      "source": [
        "from sklearn.preprocessing import LabelEncoder\n",
        "le=LabelEncoder()\n",
        "y=le.fit_transform(y)\n",
        "print(y)"
      ],
      "metadata": {
        "colab": {
          "base_uri": "https://localhost:8080/"
        },
        "id": "q5rqndtOxnHD",
        "outputId": "6fdf2ce5-fc79-4ee3-cd4d-af71d289313e"
      },
      "execution_count": null,
      "outputs": [
        {
          "output_type": "stream",
          "name": "stdout",
          "text": [
            "[1 0 0 0 0 0 1 0 0 1 0 0 1 1 0 0 1 1 0 1 0 0 0 0 1 0 0 0 0 0 0 0 0 0 0 0 0\n",
            " 0 0 0 0 0 0 0 0 0 0 0 0 0 0 0 0 0 0 0 0 0 1 0 0 1 0 1 1 0 1 0 1 1 0 1 0 0\n",
            " 0 0 1 1 1 1 0 0 1 0 0 0 0 0 0 0 0 1 0 0 1 0 0 0 0 1 1 0 0 0]\n"
          ]
        }
      ]
    },
    {
      "cell_type": "code",
      "source": [
        "dd.isnull().sum()\n"
      ],
      "metadata": {
        "colab": {
          "base_uri": "https://localhost:8080/"
        },
        "id": "nDEJ7aSeyqfy",
        "outputId": "cdc3d636-eabd-40a5-a9f0-532e9cf9948c"
      },
      "execution_count": null,
      "outputs": [
        {
          "output_type": "execute_result",
          "data": {
            "text/plain": [
              "Number          0\n",
              "Sex             0\n",
              "%Red Pixel      0\n",
              "%Green pixel    0\n",
              "%Blue pixel     0\n",
              "Hb              0\n",
              "Anaemic         0\n",
              "dtype: int64"
            ]
          },
          "metadata": {},
          "execution_count": 8
        }
      ]
    },
    {
      "cell_type": "code",
      "source": [
        "dd.info()"
      ],
      "metadata": {
        "colab": {
          "base_uri": "https://localhost:8080/"
        },
        "id": "_oA__Qq2zCD5",
        "outputId": "8751a829-9958-4e2b-fd89-82f59746962c"
      },
      "execution_count": null,
      "outputs": [
        {
          "output_type": "stream",
          "name": "stdout",
          "text": [
            "<class 'pandas.core.frame.DataFrame'>\n",
            "RangeIndex: 104 entries, 0 to 103\n",
            "Data columns (total 7 columns):\n",
            " #   Column        Non-Null Count  Dtype  \n",
            "---  ------        --------------  -----  \n",
            " 0   Number        104 non-null    int64  \n",
            " 1   Sex           104 non-null    object \n",
            " 2   %Red Pixel    104 non-null    float64\n",
            " 3   %Green pixel  104 non-null    float64\n",
            " 4   %Blue pixel   104 non-null    float64\n",
            " 5   Hb            104 non-null    float64\n",
            " 6   Anaemic       104 non-null    object \n",
            "dtypes: float64(4), int64(1), object(2)\n",
            "memory usage: 5.8+ KB\n"
          ]
        }
      ]
    },
    {
      "cell_type": "code",
      "source": [
        "from sklearn.preprocessing import StandardScaler\n",
        "scaler=StandardScaler()\n",
        "x=scaler.fit_transform(x)"
      ],
      "metadata": {
        "id": "UBFLgnrh0a6T"
      },
      "execution_count": null,
      "outputs": []
    },
    {
      "cell_type": "code",
      "source": [
        "from keras.utils import to_categorical\n",
        "y_encoded=to_categorical(y)\n",
        "from sklearn.model_selection import train_test_split\n",
        "X_train,X_test,y_train,y_test=train_test_split(x,y_encoded,test_size=0.2,random_state=42)\n",
        "X_train.shape"
      ],
      "metadata": {
        "colab": {
          "base_uri": "https://localhost:8080/"
        },
        "id": "oSbgkHqZ0vBf",
        "outputId": "e444ab29-2d29-4156-8ee8-93ee2f134364"
      },
      "execution_count": null,
      "outputs": [
        {
          "output_type": "execute_result",
          "data": {
            "text/plain": [
              "(83, 5)"
            ]
          },
          "metadata": {},
          "execution_count": 15
        }
      ]
    },
    {
      "cell_type": "code",
      "source": [
        "model=Sequential()\n",
        "model.add(Dense(32,input_shape=(X_train.shape[1],),activation='relu'))\n",
        "#model.add(Dense(1,activation='relu'))\n",
        "model.add(Dense(2,activation='softmax'))"
      ],
      "metadata": {
        "id": "8wFVRrce05hc"
      },
      "execution_count": null,
      "outputs": []
    },
    {
      "cell_type": "code",
      "source": [
        "model.compile(optimizer='adam',loss='categorical_crossentropy',metrics=['accuracy'])"
      ],
      "metadata": {
        "id": "Px9bQ3PN3Rmb"
      },
      "execution_count": null,
      "outputs": []
    },
    {
      "cell_type": "code",
      "source": [
        "model.summary()"
      ],
      "metadata": {
        "colab": {
          "base_uri": "https://localhost:8080/",
          "height": 193
        },
        "id": "DK7szKhD4rM7",
        "outputId": "0aabe859-c569-4f7e-c3d2-993acadda9d1"
      },
      "execution_count": null,
      "outputs": [
        {
          "output_type": "display_data",
          "data": {
            "text/plain": [
              "\u001b[1mModel: \"sequential_4\"\u001b[0m\n"
            ],
            "text/html": [
              "<pre style=\"white-space:pre;overflow-x:auto;line-height:normal;font-family:Menlo,'DejaVu Sans Mono',consolas,'Courier New',monospace\"><span style=\"font-weight: bold\">Model: \"sequential_4\"</span>\n",
              "</pre>\n"
            ]
          },
          "metadata": {}
        },
        {
          "output_type": "display_data",
          "data": {
            "text/plain": [
              "┏━━━━━━━━━━━━━━━━━━━━━━━━━━━━━━━━━━━━━━┳━━━━━━━━━━━━━━━━━━━━━━━━━━━━━┳━━━━━━━━━━━━━━━━━┓\n",
              "┃\u001b[1m \u001b[0m\u001b[1mLayer (type)                        \u001b[0m\u001b[1m \u001b[0m┃\u001b[1m \u001b[0m\u001b[1mOutput Shape               \u001b[0m\u001b[1m \u001b[0m┃\u001b[1m \u001b[0m\u001b[1m        Param #\u001b[0m\u001b[1m \u001b[0m┃\n",
              "┡━━━━━━━━━━━━━━━━━━━━━━━━━━━━━━━━━━━━━━╇━━━━━━━━━━━━━━━━━━━━━━━━━━━━━╇━━━━━━━━━━━━━━━━━┩\n",
              "│ dense_12 (\u001b[38;5;33mDense\u001b[0m)                     │ (\u001b[38;5;45mNone\u001b[0m, \u001b[38;5;34m32\u001b[0m)                  │             \u001b[38;5;34m192\u001b[0m │\n",
              "├──────────────────────────────────────┼─────────────────────────────┼─────────────────┤\n",
              "│ dense_13 (\u001b[38;5;33mDense\u001b[0m)                     │ (\u001b[38;5;45mNone\u001b[0m, \u001b[38;5;34m2\u001b[0m)                   │              \u001b[38;5;34m66\u001b[0m │\n",
              "└──────────────────────────────────────┴─────────────────────────────┴─────────────────┘\n"
            ],
            "text/html": [
              "<pre style=\"white-space:pre;overflow-x:auto;line-height:normal;font-family:Menlo,'DejaVu Sans Mono',consolas,'Courier New',monospace\">┏━━━━━━━━━━━━━━━━━━━━━━━━━━━━━━━━━━━━━━┳━━━━━━━━━━━━━━━━━━━━━━━━━━━━━┳━━━━━━━━━━━━━━━━━┓\n",
              "┃<span style=\"font-weight: bold\"> Layer (type)                         </span>┃<span style=\"font-weight: bold\"> Output Shape                </span>┃<span style=\"font-weight: bold\">         Param # </span>┃\n",
              "┡━━━━━━━━━━━━━━━━━━━━━━━━━━━━━━━━━━━━━━╇━━━━━━━━━━━━━━━━━━━━━━━━━━━━━╇━━━━━━━━━━━━━━━━━┩\n",
              "│ dense_12 (<span style=\"color: #0087ff; text-decoration-color: #0087ff\">Dense</span>)                     │ (<span style=\"color: #00d7ff; text-decoration-color: #00d7ff\">None</span>, <span style=\"color: #00af00; text-decoration-color: #00af00\">32</span>)                  │             <span style=\"color: #00af00; text-decoration-color: #00af00\">192</span> │\n",
              "├──────────────────────────────────────┼─────────────────────────────┼─────────────────┤\n",
              "│ dense_13 (<span style=\"color: #0087ff; text-decoration-color: #0087ff\">Dense</span>)                     │ (<span style=\"color: #00d7ff; text-decoration-color: #00d7ff\">None</span>, <span style=\"color: #00af00; text-decoration-color: #00af00\">2</span>)                   │              <span style=\"color: #00af00; text-decoration-color: #00af00\">66</span> │\n",
              "└──────────────────────────────────────┴─────────────────────────────┴─────────────────┘\n",
              "</pre>\n"
            ]
          },
          "metadata": {}
        },
        {
          "output_type": "display_data",
          "data": {
            "text/plain": [
              "\u001b[1m Total params: \u001b[0m\u001b[38;5;34m258\u001b[0m (1.01 KB)\n"
            ],
            "text/html": [
              "<pre style=\"white-space:pre;overflow-x:auto;line-height:normal;font-family:Menlo,'DejaVu Sans Mono',consolas,'Courier New',monospace\"><span style=\"font-weight: bold\"> Total params: </span><span style=\"color: #00af00; text-decoration-color: #00af00\">258</span> (1.01 KB)\n",
              "</pre>\n"
            ]
          },
          "metadata": {}
        },
        {
          "output_type": "display_data",
          "data": {
            "text/plain": [
              "\u001b[1m Trainable params: \u001b[0m\u001b[38;5;34m258\u001b[0m (1.01 KB)\n"
            ],
            "text/html": [
              "<pre style=\"white-space:pre;overflow-x:auto;line-height:normal;font-family:Menlo,'DejaVu Sans Mono',consolas,'Courier New',monospace\"><span style=\"font-weight: bold\"> Trainable params: </span><span style=\"color: #00af00; text-decoration-color: #00af00\">258</span> (1.01 KB)\n",
              "</pre>\n"
            ]
          },
          "metadata": {}
        },
        {
          "output_type": "display_data",
          "data": {
            "text/plain": [
              "\u001b[1m Non-trainable params: \u001b[0m\u001b[38;5;34m0\u001b[0m (0.00 B)\n"
            ],
            "text/html": [
              "<pre style=\"white-space:pre;overflow-x:auto;line-height:normal;font-family:Menlo,'DejaVu Sans Mono',consolas,'Courier New',monospace\"><span style=\"font-weight: bold\"> Non-trainable params: </span><span style=\"color: #00af00; text-decoration-color: #00af00\">0</span> (0.00 B)\n",
              "</pre>\n"
            ]
          },
          "metadata": {}
        }
      ]
    },
    {
      "cell_type": "code",
      "source": [
        "print(x)"
      ],
      "metadata": {
        "colab": {
          "base_uri": "https://localhost:8080/"
        },
        "id": "dNCArNGE5Q1h",
        "outputId": "2192d15c-9e0f-45ac-8401-77e7c1a901e8"
      },
      "execution_count": null,
      "outputs": [
        {
          "output_type": "stream",
          "name": "stdout",
          "text": [
            "[[-1.71547578 -0.85583785  1.27140733  0.21881096 -2.33959306]\n",
            " [-1.68216557 -0.018152   -0.44318177  0.37282795  0.53943288]\n",
            " [-1.64885536 -0.22958936  0.05960317  0.27906087 -0.18032361]\n",
            " [-1.61554515 -0.39760464  0.07395553  0.50628909  0.53943288]\n",
            " [-1.58223494 -0.84459878  1.17772912  0.27617495  0.09958169]\n",
            " [-1.54892473 -0.19794155 -0.58896806  0.74212444  1.6190676 ]\n",
            " [-1.51561452 -0.89501406  0.83223823  0.61828304 -1.41990422]\n",
            " [-1.48230431 -0.7292466   0.15153582  0.91614035 -0.74013421]\n",
            " [-1.4489941  -0.21831461  0.1878046   0.16276335  0.33950052]\n",
            " [-1.41568389  0.30688923 -0.93568732  0.29728773 -0.98005303]\n",
            " [-1.38237368 -0.10831437  0.1611687   0.02747953  0.17955464]\n",
            " [-1.34906348 -0.4452726   0.03510073  0.60435974  1.29917583]\n",
            " [-1.31575327 -0.24618038  1.06827626 -0.48727746 -2.93939013]\n",
            " [-1.28244306 -0.21613815  1.44130816 -0.82204417 -1.25995833]\n",
            " [-1.24913285  0.47811568 -1.82695557  0.75230111  0.97928406]\n",
            " [-1.21582264 -0.02496681 -0.0933593   0.10858907  0.73936523]\n",
            " [-1.18251243 -1.112624    0.83068662  0.92834223 -0.86009362]\n",
            " [-1.14920222 -0.55605778  0.72524207  0.22108932 -1.53986363]\n",
            " [-1.11589201  0.02006086 -0.84446582  0.63291516  0.57941935]\n",
            " [-1.0825818  -1.68324798  1.99975696  0.82247453 -0.90008009]\n",
            " [-1.04927159 -0.26494785  0.97013719 -0.38378938 -0.22031008]\n",
            " [-1.01596138 -0.79625291  0.59051097  0.66744494  0.09958169]\n",
            " [-0.98265117 -0.83928251  0.61611246  0.70850601 -0.02037772]\n",
            " [-0.94934096  0.70753556 -1.3448587   0.04919987  1.17921642]\n",
            " [-0.91603075  0.0129963   0.77450556 -0.62499153 -1.21997186]\n",
            " [-0.88272055 -0.80078422  1.52315537 -0.05656656  0.29951405]\n",
            " [-0.84941034 -0.43849347 -0.08527802  0.68901339  1.01927053]\n",
            " [-0.81610013 -0.4725675  -0.07357633  0.72820115  0.77935171]\n",
            " [-0.78278992  0.79819744 -1.15097263 -0.2312913   0.97928406]\n",
            " [-0.74947971 -1.21555967  0.86204199  1.04980402  0.61940582]\n",
            " [-0.7161695  -0.49843521  0.5057545   0.31121103  0.29951405]\n",
            " [-0.68285929  1.06383213 -1.40763409 -0.40723115  1.13922995]\n",
            " [-0.64954908 -1.24485262  0.3330737   1.50562748  0.49944641]\n",
            " [-0.61623887 -0.0752037  -0.35260678  0.38285272  0.93929759]\n",
            " [-0.58292866 -1.2492769   1.00627668  0.98469361  0.61940582]\n",
            " [-0.54961845 -0.14106825 -0.56090986  0.63944645  0.17955464]\n",
            " [-0.51630824  0.26899749 -0.45992618 -0.02153048  0.53943288]\n",
            " [-0.48299803  0.5613562  -0.40271071 -0.48120184  0.25952758]\n",
            " [-0.44968783  0.61013023 -0.90672401 -0.15570044 -0.14033714]\n",
            " [-0.41637762  0.17508876 -0.75447269  0.34239921  0.77935171]\n",
            " [-0.38306741 -1.40648125  0.82085978  1.3529775  -0.50021538]\n",
            " [-0.3497572   0.82902463 -1.3430485  -0.12461352  1.65905408]\n",
            " [-0.31644699  0.39555306 -0.55438018 -0.12714503  1.21920289]\n",
            " [-0.28313678 -0.25031921 -0.26403594  0.56198228  0.37948699]\n",
            " [-0.24982657 -0.52355366  0.06522774  0.69184868  0.77935171]\n",
            " [-0.21651636  0.45977636 -1.06906077  0.18478748  0.45945994]\n",
            " [-0.18320615  1.14107848 -1.72952765 -0.26475784  0.77935171]\n",
            " [-0.14989594  0.03708003 -1.02716741  0.75184544 -0.14033714]\n",
            " [-0.11658573  1.02808116 -1.54113684 -0.25194841  1.37914878]\n",
            " [-0.08327552 -0.02528792 -0.76539858  0.63534541 -0.18032361]\n",
            " [-0.04996531  0.11122226 -0.3064465   0.08216012  0.33950052]\n",
            " [-0.0166551  -0.57528909 -0.23216337  0.99816124 -0.10035066]\n",
            " [ 0.0166551  -0.60329758 -0.17953808  0.99674359  0.49944641]\n",
            " [ 0.04996531  0.51597174 -0.3594597  -0.45072247  0.09958169]\n",
            " [ 0.08327552  0.14040818 -0.14734226 -0.08385623  0.89931112]\n",
            " [ 0.11658573  0.19949361 -0.34892171 -0.00983491  0.33950052]\n",
            " [ 0.14989594  1.24640469 -0.39075042 -1.46271841  0.17955464]\n",
            " [ 0.18320615  0.05153027 -0.73999103  0.50644098  0.33950052]\n",
            " [ 0.21651636 -1.78921641  2.1422461   0.86125724 -3.73911956]\n",
            " [ 0.24982657  1.67766412  0.22310364 -2.55536821 -0.10035066]\n",
            " [ 0.28313678 -0.61789054  0.61953893  0.39156111 -0.02037772]\n",
            " [ 0.31644699 -0.20868111  0.63040017 -0.1975716  -0.86009362]\n",
            " [ 0.3497572   0.06926304 -1.08043921  0.74784565  1.33916231]\n",
            " [ 0.38306741 -0.77441699  1.18639226  0.16980095 -0.66016126]\n",
            " [ 0.41637762 -2.44668456  1.60739464  2.21308291 -1.45989069]\n",
            " [ 0.44968783 -0.08351704  0.38330694 -0.18167372 -0.06036419]\n",
            " [ 0.48299803 -0.53279468  0.46793411  0.38963717 -1.06002598]\n",
            " [ 0.51630824 -0.53279468  0.46793411  0.38963717  0.13956816]\n",
            " [ 0.54961845 -1.09357108  1.72292462  0.20250804 -1.25995833]\n",
            " [ 0.58292866  0.46580621 -0.24321857 -0.47051887 -1.49987716]\n",
            " [ 0.61623887 -0.51902235  0.39468538  0.42740728 -0.38025596]\n",
            " [ 0.64954908 -1.61313754  2.25797003  0.52076932 -0.86009362]\n",
            " [ 0.68285929  2.5891354  -1.34951352 -2.61723828 -0.26029655]\n",
            " [ 0.7161695   1.72811508 -0.04461302 -2.41724909 -0.42024243]\n",
            " [ 0.74947971 -0.33330998 -0.54293709  0.89816664  0.73936523]\n",
            " [ 0.78278992  2.94610988 -1.6356555  -2.89960276  0.93929759]\n",
            " [ 0.81610013  1.40425128  0.06458124 -2.04324399 -0.90008009]\n",
            " [ 0.84941034  0.11293488  1.33450596 -1.20536523 -1.37991775]\n",
            " [ 0.88272055 -1.14209535  1.33780312  0.57296903 -1.17998539]\n",
            " [ 0.91603075 -0.4708192   0.98836856 -0.10593098 -1.65982305]\n",
            " [ 0.94934096 -0.63362525  0.38770316  0.59549946  0.77935171]\n",
            " [ 0.98265117 -1.00876065  0.11888745  1.33834538  0.21954111]\n",
            " [ 1.01596138 -0.89936697  0.30411039  1.03805782 -0.70014773]\n",
            " [ 1.04927159 -0.06446413 -0.61896578  0.57620936  1.53909466]\n",
            " [ 1.0825818   1.72187115 -2.41482022 -0.55223597 -0.26029655]\n",
            " [ 1.11589201  0.21437201 -1.03421429  0.50573216 -0.46022891]\n",
            " [ 1.14920222  0.4080766  -0.4517156  -0.22531694  0.73936523]\n",
            " [ 1.18251243  0.33072321  0.53833822 -0.89090121 -0.34026949]\n",
            " [ 1.21582264  3.2088902  -1.9812757  -3.00187572  1.21920289]\n",
            " [ 1.24913285  1.14964159  0.39119427 -1.93773071  0.13956816]\n",
            " [ 1.28244306  0.25700914  0.00419791 -0.36799277 -0.58018832]\n",
            " [ 1.31575327 -0.89615581  0.91382683  0.55605855 -1.06002598]\n",
            " [ 1.34906348  1.37349545 -1.36018081 -0.88386362  0.93929759]\n",
            " [ 1.38237368  0.74953046 -1.70017644  0.2678716   1.21920289]\n",
            " [ 1.41568389 -1.1141939   1.3568103   0.51849096 -1.37991775]\n",
            " [ 1.4489941   2.31911212 -1.80387543 -1.87818962  1.53909466]\n",
            " [ 1.48230431  2.11438253 -0.39288388 -2.69267724  0.41947346]\n",
            " [ 1.51561452  0.96831782 -1.26294685 -0.38500451  0.13956816]\n",
            " [ 1.54892473  0.59650062 -1.03279198 -0.03763088  0.33950052]\n",
            " [ 1.58223494  1.55053767  0.2653849  -2.40808503  0.93929759]\n",
            " [ 1.61554515 -1.22087593  1.16382932  0.82100626 -2.33959306]\n",
            " [ 1.64885536 -0.01704593  1.96077287 -1.511374    0.21954111]\n",
            " [ 1.68216557 -0.1586583   0.25950172  0.02191021  0.49944641]\n",
            " [ 1.71547578 -0.74341141  0.60376427  0.58203183  0.01960875]]\n"
          ]
        }
      ]
    },
    {
      "cell_type": "code",
      "source": [
        "model.fit(X_train,y_train,epochs=50,batch_size=32,validation_data=(X_test,y_test))"
      ],
      "metadata": {
        "colab": {
          "base_uri": "https://localhost:8080/"
        },
        "id": "FZCvp2pA5ETJ",
        "outputId": "bed2f693-7b18-4059-f728-3a6e9bdbd204"
      },
      "execution_count": null,
      "outputs": [
        {
          "output_type": "stream",
          "name": "stdout",
          "text": [
            "Epoch 1/50\n",
            "\u001b[1m3/3\u001b[0m \u001b[32m━━━━━━━━━━━━━━━━━━━━\u001b[0m\u001b[37m\u001b[0m \u001b[1m0s\u001b[0m 49ms/step - accuracy: 0.6258 - loss: 0.6546 - val_accuracy: 0.8095 - val_loss: 0.5922\n",
            "Epoch 2/50\n",
            "\u001b[1m3/3\u001b[0m \u001b[32m━━━━━━━━━━━━━━━━━━━━\u001b[0m\u001b[37m\u001b[0m \u001b[1m0s\u001b[0m 23ms/step - accuracy: 0.6495 - loss: 0.6421 - val_accuracy: 0.8095 - val_loss: 0.5718\n",
            "Epoch 3/50\n",
            "\u001b[1m3/3\u001b[0m \u001b[32m━━━━━━━━━━━━━━━━━━━━\u001b[0m\u001b[37m\u001b[0m \u001b[1m0s\u001b[0m 19ms/step - accuracy: 0.6577 - loss: 0.6267 - val_accuracy: 0.8095 - val_loss: 0.5522\n",
            "Epoch 4/50\n",
            "\u001b[1m3/3\u001b[0m \u001b[32m━━━━━━━━━━━━━━━━━━━━\u001b[0m\u001b[37m\u001b[0m \u001b[1m0s\u001b[0m 19ms/step - accuracy: 0.7208 - loss: 0.6041 - val_accuracy: 0.8571 - val_loss: 0.5336\n",
            "Epoch 5/50\n",
            "\u001b[1m3/3\u001b[0m \u001b[32m━━━━━━━━━━━━━━━━━━━━\u001b[0m\u001b[37m\u001b[0m \u001b[1m0s\u001b[0m 34ms/step - accuracy: 0.7308 - loss: 0.5860 - val_accuracy: 0.8571 - val_loss: 0.5158\n",
            "Epoch 6/50\n",
            "\u001b[1m3/3\u001b[0m \u001b[32m━━━━━━━━━━━━━━━━━━━━\u001b[0m\u001b[37m\u001b[0m \u001b[1m0s\u001b[0m 19ms/step - accuracy: 0.7942 - loss: 0.5766 - val_accuracy: 0.8571 - val_loss: 0.4989\n",
            "Epoch 7/50\n",
            "\u001b[1m3/3\u001b[0m \u001b[32m━━━━━━━━━━━━━━━━━━━━\u001b[0m\u001b[37m\u001b[0m \u001b[1m0s\u001b[0m 19ms/step - accuracy: 0.7942 - loss: 0.5597 - val_accuracy: 0.8571 - val_loss: 0.4824\n",
            "Epoch 8/50\n",
            "\u001b[1m3/3\u001b[0m \u001b[32m━━━━━━━━━━━━━━━━━━━━\u001b[0m\u001b[37m\u001b[0m \u001b[1m0s\u001b[0m 17ms/step - accuracy: 0.8159 - loss: 0.5468 - val_accuracy: 0.8571 - val_loss: 0.4663\n",
            "Epoch 9/50\n",
            "\u001b[1m3/3\u001b[0m \u001b[32m━━━━━━━━━━━━━━━━━━━━\u001b[0m\u001b[37m\u001b[0m \u001b[1m0s\u001b[0m 16ms/step - accuracy: 0.8301 - loss: 0.5314 - val_accuracy: 0.8571 - val_loss: 0.4508\n",
            "Epoch 10/50\n",
            "\u001b[1m3/3\u001b[0m \u001b[32m━━━━━━━━━━━━━━━━━━━━\u001b[0m\u001b[37m\u001b[0m \u001b[1m0s\u001b[0m 16ms/step - accuracy: 0.8769 - loss: 0.5086 - val_accuracy: 0.9048 - val_loss: 0.4359\n",
            "Epoch 11/50\n",
            "\u001b[1m3/3\u001b[0m \u001b[32m━━━━━━━━━━━━━━━━━━━━\u001b[0m\u001b[37m\u001b[0m \u001b[1m0s\u001b[0m 16ms/step - accuracy: 0.8613 - loss: 0.5049 - val_accuracy: 0.9048 - val_loss: 0.4215\n",
            "Epoch 12/50\n",
            "\u001b[1m3/3\u001b[0m \u001b[32m━━━━━━━━━━━━━━━━━━━━\u001b[0m\u001b[37m\u001b[0m \u001b[1m0s\u001b[0m 18ms/step - accuracy: 0.8830 - loss: 0.4878 - val_accuracy: 0.9524 - val_loss: 0.4079\n",
            "Epoch 13/50\n",
            "\u001b[1m3/3\u001b[0m \u001b[32m━━━━━━━━━━━━━━━━━━━━\u001b[0m\u001b[37m\u001b[0m \u001b[1m0s\u001b[0m 17ms/step - accuracy: 0.8538 - loss: 0.4941 - val_accuracy: 0.9524 - val_loss: 0.3947\n",
            "Epoch 14/50\n",
            "\u001b[1m3/3\u001b[0m \u001b[32m━━━━━━━━━━━━━━━━━━━━\u001b[0m\u001b[37m\u001b[0m \u001b[1m0s\u001b[0m 20ms/step - accuracy: 0.8734 - loss: 0.4676 - val_accuracy: 0.9524 - val_loss: 0.3821\n",
            "Epoch 15/50\n",
            "\u001b[1m3/3\u001b[0m \u001b[32m━━━━━━━━━━━━━━━━━━━━\u001b[0m\u001b[37m\u001b[0m \u001b[1m0s\u001b[0m 21ms/step - accuracy: 0.9010 - loss: 0.4460 - val_accuracy: 1.0000 - val_loss: 0.3700\n",
            "Epoch 16/50\n",
            "\u001b[1m3/3\u001b[0m \u001b[32m━━━━━━━━━━━━━━━━━━━━\u001b[0m\u001b[37m\u001b[0m \u001b[1m0s\u001b[0m 17ms/step - accuracy: 0.9365 - loss: 0.4444 - val_accuracy: 1.0000 - val_loss: 0.3584\n",
            "Epoch 17/50\n",
            "\u001b[1m3/3\u001b[0m \u001b[32m━━━━━━━━━━━━━━━━━━━━\u001b[0m\u001b[37m\u001b[0m \u001b[1m0s\u001b[0m 16ms/step - accuracy: 0.9464 - loss: 0.4225 - val_accuracy: 1.0000 - val_loss: 0.3474\n",
            "Epoch 18/50\n",
            "\u001b[1m3/3\u001b[0m \u001b[32m━━━━━━━━━━━━━━━━━━━━\u001b[0m\u001b[37m\u001b[0m \u001b[1m0s\u001b[0m 16ms/step - accuracy: 0.9543 - loss: 0.4151 - val_accuracy: 1.0000 - val_loss: 0.3368\n",
            "Epoch 19/50\n",
            "\u001b[1m3/3\u001b[0m \u001b[32m━━━━━━━━━━━━━━━━━━━━\u001b[0m\u001b[37m\u001b[0m \u001b[1m0s\u001b[0m 17ms/step - accuracy: 0.9386 - loss: 0.4176 - val_accuracy: 1.0000 - val_loss: 0.3268\n",
            "Epoch 20/50\n",
            "\u001b[1m3/3\u001b[0m \u001b[32m━━━━━━━━━━━━━━━━━━━━\u001b[0m\u001b[37m\u001b[0m \u001b[1m0s\u001b[0m 17ms/step - accuracy: 0.9368 - loss: 0.4178 - val_accuracy: 1.0000 - val_loss: 0.3171\n",
            "Epoch 21/50\n",
            "\u001b[1m3/3\u001b[0m \u001b[32m━━━━━━━━━━━━━━━━━━━━\u001b[0m\u001b[37m\u001b[0m \u001b[1m0s\u001b[0m 18ms/step - accuracy: 0.9603 - loss: 0.4067 - val_accuracy: 1.0000 - val_loss: 0.3076\n",
            "Epoch 22/50\n",
            "\u001b[1m3/3\u001b[0m \u001b[32m━━━━━━━━━━━━━━━━━━━━\u001b[0m\u001b[37m\u001b[0m \u001b[1m0s\u001b[0m 17ms/step - accuracy: 0.9447 - loss: 0.4072 - val_accuracy: 1.0000 - val_loss: 0.2986\n",
            "Epoch 23/50\n",
            "\u001b[1m3/3\u001b[0m \u001b[32m━━━━━━━━━━━━━━━━━━━━\u001b[0m\u001b[37m\u001b[0m \u001b[1m0s\u001b[0m 16ms/step - accuracy: 0.9603 - loss: 0.3983 - val_accuracy: 1.0000 - val_loss: 0.2897\n",
            "Epoch 24/50\n",
            "\u001b[1m3/3\u001b[0m \u001b[32m━━━━━━━━━━━━━━━━━━━━\u001b[0m\u001b[37m\u001b[0m \u001b[1m0s\u001b[0m 17ms/step - accuracy: 0.9447 - loss: 0.3733 - val_accuracy: 1.0000 - val_loss: 0.2812\n",
            "Epoch 25/50\n",
            "\u001b[1m3/3\u001b[0m \u001b[32m━━━━━━━━━━━━━━━━━━━━\u001b[0m\u001b[37m\u001b[0m \u001b[1m0s\u001b[0m 17ms/step - accuracy: 0.9603 - loss: 0.3489 - val_accuracy: 1.0000 - val_loss: 0.2729\n",
            "Epoch 26/50\n",
            "\u001b[1m3/3\u001b[0m \u001b[32m━━━━━━━━━━━━━━━━━━━━\u001b[0m\u001b[37m\u001b[0m \u001b[1m0s\u001b[0m 21ms/step - accuracy: 0.9525 - loss: 0.3536 - val_accuracy: 1.0000 - val_loss: 0.2650\n",
            "Epoch 27/50\n",
            "\u001b[1m3/3\u001b[0m \u001b[32m━━━━━━━━━━━━━━━━━━━━\u001b[0m\u001b[37m\u001b[0m \u001b[1m0s\u001b[0m 20ms/step - accuracy: 0.9368 - loss: 0.3721 - val_accuracy: 1.0000 - val_loss: 0.2573\n",
            "Epoch 28/50\n",
            "\u001b[1m3/3\u001b[0m \u001b[32m━━━━━━━━━━━━━━━━━━━━\u001b[0m\u001b[37m\u001b[0m \u001b[1m0s\u001b[0m 17ms/step - accuracy: 0.9603 - loss: 0.3515 - val_accuracy: 1.0000 - val_loss: 0.2499\n",
            "Epoch 29/50\n",
            "\u001b[1m3/3\u001b[0m \u001b[32m━━━━━━━━━━━━━━━━━━━━\u001b[0m\u001b[37m\u001b[0m \u001b[1m0s\u001b[0m 22ms/step - accuracy: 0.9368 - loss: 0.3601 - val_accuracy: 1.0000 - val_loss: 0.2430\n",
            "Epoch 30/50\n",
            "\u001b[1m3/3\u001b[0m \u001b[32m━━━━━━━━━━━━━━━━━━━━\u001b[0m\u001b[37m\u001b[0m \u001b[1m0s\u001b[0m 16ms/step - accuracy: 0.9603 - loss: 0.3432 - val_accuracy: 1.0000 - val_loss: 0.2362\n",
            "Epoch 31/50\n",
            "\u001b[1m3/3\u001b[0m \u001b[32m━━━━━━━━━━━━━━━━━━━━\u001b[0m\u001b[37m\u001b[0m \u001b[1m0s\u001b[0m 16ms/step - accuracy: 0.9368 - loss: 0.3496 - val_accuracy: 1.0000 - val_loss: 0.2296\n",
            "Epoch 32/50\n",
            "\u001b[1m3/3\u001b[0m \u001b[32m━━━━━━━━━━━━━━━━━━━━\u001b[0m\u001b[37m\u001b[0m \u001b[1m0s\u001b[0m 16ms/step - accuracy: 0.9564 - loss: 0.3124 - val_accuracy: 1.0000 - val_loss: 0.2233\n",
            "Epoch 33/50\n",
            "\u001b[1m3/3\u001b[0m \u001b[32m━━━━━━━━━━━━━━━━━━━━\u001b[0m\u001b[37m\u001b[0m \u001b[1m0s\u001b[0m 17ms/step - accuracy: 0.9681 - loss: 0.3034 - val_accuracy: 1.0000 - val_loss: 0.2173\n",
            "Epoch 34/50\n",
            "\u001b[1m3/3\u001b[0m \u001b[32m━━━━━━━━━━━━━━━━━━━━\u001b[0m\u001b[37m\u001b[0m \u001b[1m0s\u001b[0m 17ms/step - accuracy: 0.9486 - loss: 0.3080 - val_accuracy: 1.0000 - val_loss: 0.2115\n",
            "Epoch 35/50\n",
            "\u001b[1m3/3\u001b[0m \u001b[32m━━━━━━━━━━━━━━━━━━━━\u001b[0m\u001b[37m\u001b[0m \u001b[1m0s\u001b[0m 18ms/step - accuracy: 0.9564 - loss: 0.3138 - val_accuracy: 1.0000 - val_loss: 0.2060\n",
            "Epoch 36/50\n",
            "\u001b[1m3/3\u001b[0m \u001b[32m━━━━━━━━━━━━━━━━━━━━\u001b[0m\u001b[37m\u001b[0m \u001b[1m0s\u001b[0m 21ms/step - accuracy: 0.9603 - loss: 0.2946 - val_accuracy: 1.0000 - val_loss: 0.2007\n",
            "Epoch 37/50\n",
            "\u001b[1m3/3\u001b[0m \u001b[32m━━━━━━━━━━━━━━━━━━━━\u001b[0m\u001b[37m\u001b[0m \u001b[1m0s\u001b[0m 20ms/step - accuracy: 0.9447 - loss: 0.2993 - val_accuracy: 1.0000 - val_loss: 0.1956\n",
            "Epoch 38/50\n",
            "\u001b[1m3/3\u001b[0m \u001b[32m━━━━━━━━━━━━━━━━━━━━\u001b[0m\u001b[37m\u001b[0m \u001b[1m0s\u001b[0m 17ms/step - accuracy: 0.9486 - loss: 0.2937 - val_accuracy: 1.0000 - val_loss: 0.1907\n",
            "Epoch 39/50\n",
            "\u001b[1m3/3\u001b[0m \u001b[32m━━━━━━━━━━━━━━━━━━━━\u001b[0m\u001b[37m\u001b[0m \u001b[1m0s\u001b[0m 16ms/step - accuracy: 0.9525 - loss: 0.3144 - val_accuracy: 1.0000 - val_loss: 0.1861\n",
            "Epoch 40/50\n",
            "\u001b[1m3/3\u001b[0m \u001b[32m━━━━━━━━━━━━━━━━━━━━\u001b[0m\u001b[37m\u001b[0m \u001b[1m0s\u001b[0m 17ms/step - accuracy: 0.9447 - loss: 0.3026 - val_accuracy: 1.0000 - val_loss: 0.1816\n",
            "Epoch 41/50\n",
            "\u001b[1m3/3\u001b[0m \u001b[32m━━━━━━━━━━━━━━━━━━━━\u001b[0m\u001b[37m\u001b[0m \u001b[1m0s\u001b[0m 17ms/step - accuracy: 0.9603 - loss: 0.2756 - val_accuracy: 1.0000 - val_loss: 0.1772\n",
            "Epoch 42/50\n",
            "\u001b[1m3/3\u001b[0m \u001b[32m━━━━━━━━━━━━━━━━━━━━\u001b[0m\u001b[37m\u001b[0m \u001b[1m0s\u001b[0m 16ms/step - accuracy: 0.9486 - loss: 0.2980 - val_accuracy: 1.0000 - val_loss: 0.1730\n",
            "Epoch 43/50\n",
            "\u001b[1m3/3\u001b[0m \u001b[32m━━━━━━━━━━━━━━━━━━━━\u001b[0m\u001b[37m\u001b[0m \u001b[1m0s\u001b[0m 17ms/step - accuracy: 0.9681 - loss: 0.2432 - val_accuracy: 1.0000 - val_loss: 0.1689\n",
            "Epoch 44/50\n",
            "\u001b[1m3/3\u001b[0m \u001b[32m━━━━━━━━━━━━━━━━━━━━\u001b[0m\u001b[37m\u001b[0m \u001b[1m0s\u001b[0m 17ms/step - accuracy: 0.9603 - loss: 0.2577 - val_accuracy: 1.0000 - val_loss: 0.1651\n",
            "Epoch 45/50\n",
            "\u001b[1m3/3\u001b[0m \u001b[32m━━━━━━━━━━━━━━━━━━━━\u001b[0m\u001b[37m\u001b[0m \u001b[1m0s\u001b[0m 17ms/step - accuracy: 0.9407 - loss: 0.2867 - val_accuracy: 1.0000 - val_loss: 0.1616\n",
            "Epoch 46/50\n",
            "\u001b[1m3/3\u001b[0m \u001b[32m━━━━━━━━━━━━━━━━━━━━\u001b[0m\u001b[37m\u001b[0m \u001b[1m0s\u001b[0m 19ms/step - accuracy: 0.9564 - loss: 0.2446 - val_accuracy: 1.0000 - val_loss: 0.1582\n",
            "Epoch 47/50\n",
            "\u001b[1m3/3\u001b[0m \u001b[32m━━━━━━━━━━━━━━━━━━━━\u001b[0m\u001b[37m\u001b[0m \u001b[1m0s\u001b[0m 31ms/step - accuracy: 0.9702 - loss: 0.2415 - val_accuracy: 1.0000 - val_loss: 0.1547\n",
            "Epoch 48/50\n",
            "\u001b[1m3/3\u001b[0m \u001b[32m━━━━━━━━━━━━━━━━━━━━\u001b[0m\u001b[37m\u001b[0m \u001b[1m0s\u001b[0m 19ms/step - accuracy: 0.9663 - loss: 0.2485 - val_accuracy: 1.0000 - val_loss: 0.1514\n",
            "Epoch 49/50\n",
            "\u001b[1m3/3\u001b[0m \u001b[32m━━━━━━━━━━━━━━━━━━━━\u001b[0m\u001b[37m\u001b[0m \u001b[1m0s\u001b[0m 35ms/step - accuracy: 0.9585 - loss: 0.2722 - val_accuracy: 1.0000 - val_loss: 0.1482\n",
            "Epoch 50/50\n",
            "\u001b[1m3/3\u001b[0m \u001b[32m━━━━━━━━━━━━━━━━━━━━\u001b[0m\u001b[37m\u001b[0m \u001b[1m0s\u001b[0m 19ms/step - accuracy: 0.9702 - loss: 0.2396 - val_accuracy: 1.0000 - val_loss: 0.1450\n"
          ]
        },
        {
          "output_type": "execute_result",
          "data": {
            "text/plain": [
              "<keras.src.callbacks.history.History at 0x7db0605355d0>"
            ]
          },
          "metadata": {},
          "execution_count": 49
        }
      ]
    },
    {
      "cell_type": "code",
      "source": [
        "model.evaluate(X_test,y_test)"
      ],
      "metadata": {
        "colab": {
          "base_uri": "https://localhost:8080/"
        },
        "id": "3We_OLBdRev-",
        "outputId": "412913df-db64-4892-f48b-239754a65e91"
      },
      "execution_count": null,
      "outputs": [
        {
          "output_type": "stream",
          "name": "stdout",
          "text": [
            "\u001b[1m1/1\u001b[0m \u001b[32m━━━━━━━━━━━━━━━━━━━━\u001b[0m\u001b[37m\u001b[0m \u001b[1m0s\u001b[0m 42ms/step - accuracy: 1.0000 - loss: 0.1450\n"
          ]
        },
        {
          "output_type": "execute_result",
          "data": {
            "text/plain": [
              "[0.14502382278442383, 1.0]"
            ]
          },
          "metadata": {},
          "execution_count": 50
        }
      ]
    },
    {
      "cell_type": "code",
      "source": [
        "print('loss:',model.evaluate(X_test,y_test)[0])\n",
        "print('accuracy:',model.evaluate(X_test,y_test)[1])"
      ],
      "metadata": {
        "colab": {
          "base_uri": "https://localhost:8080/"
        },
        "id": "FcVtOmimRfDe",
        "outputId": "2071729c-bb0d-4e28-8211-595aa9158c60"
      },
      "execution_count": null,
      "outputs": [
        {
          "output_type": "stream",
          "name": "stdout",
          "text": [
            "\u001b[1m1/1\u001b[0m \u001b[32m━━━━━━━━━━━━━━━━━━━━\u001b[0m\u001b[37m\u001b[0m \u001b[1m0s\u001b[0m 31ms/step - accuracy: 1.0000 - loss: 0.1450\n",
            "loss: 0.14502382278442383\n",
            "\u001b[1m1/1\u001b[0m \u001b[32m━━━━━━━━━━━━━━━━━━━━\u001b[0m\u001b[37m\u001b[0m \u001b[1m0s\u001b[0m 44ms/step - accuracy: 1.0000 - loss: 0.1450\n",
            "accuracy: 1.0\n"
          ]
        }
      ]
    }
  ]
}