{
  "nbformat": 4,
  "nbformat_minor": 0,
  "metadata": {
    "colab": {
      "provenance": []
    },
    "kernelspec": {
      "name": "python3",
      "display_name": "Python 3"
    },
    "language_info": {
      "name": "python"
    }
  },
  "cells": [
    {
      "cell_type": "code",
      "execution_count": null,
      "metadata": {
        "colab": {
          "base_uri": "https://localhost:8080/"
        },
        "id": "iO_ShhP2i9ch",
        "outputId": "ce0d98f4-0931-47c4-e48b-51e384987f8f"
      },
      "outputs": [
        {
          "output_type": "stream",
          "name": "stdout",
          "text": [
            "      work_year experience_level employment_type                 job_title  \\\n",
            "0          2023               SE              FT  Principal Data Scientist   \n",
            "1          2023               MI              CT               ML Engineer   \n",
            "2          2023               MI              CT               ML Engineer   \n",
            "3          2023               SE              FT            Data Scientist   \n",
            "4          2023               SE              FT            Data Scientist   \n",
            "...         ...              ...             ...                       ...   \n",
            "3750       2020               SE              FT            Data Scientist   \n",
            "3751       2021               MI              FT  Principal Data Scientist   \n",
            "3752       2020               EN              FT            Data Scientist   \n",
            "3753       2020               EN              CT     Business Data Analyst   \n",
            "3754       2021               SE              FT      Data Science Manager   \n",
            "\n",
            "       salary salary_currency  salary_in_usd employee_residence  remote_ratio  \\\n",
            "0       80000             EUR          85847                 ES           100   \n",
            "1       30000             USD          30000                 US           100   \n",
            "2       25500             USD          25500                 US           100   \n",
            "3      175000             USD         175000                 CA           100   \n",
            "4      120000             USD         120000                 CA           100   \n",
            "...       ...             ...            ...                ...           ...   \n",
            "3750   412000             USD         412000                 US           100   \n",
            "3751   151000             USD         151000                 US           100   \n",
            "3752   105000             USD         105000                 US           100   \n",
            "3753   100000             USD         100000                 US           100   \n",
            "3754  7000000             INR          94665                 IN            50   \n",
            "\n",
            "     company_location company_size  \n",
            "0                  ES            L  \n",
            "1                  US            S  \n",
            "2                  US            S  \n",
            "3                  CA            M  \n",
            "4                  CA            M  \n",
            "...               ...          ...  \n",
            "3750               US            L  \n",
            "3751               US            L  \n",
            "3752               US            S  \n",
            "3753               US            L  \n",
            "3754               IN            L  \n",
            "\n",
            "[3755 rows x 11 columns]\n"
          ]
        }
      ],
      "source": [
        "import pandas as pd\n",
        "dtt=pd.read_csv(\"/content/salary.csv\")\n",
        "print(dtt)"
      ]
    },
    {
      "cell_type": "code",
      "source": [
        "dtt.isnull().sum()"
      ],
      "metadata": {
        "colab": {
          "base_uri": "https://localhost:8080/",
          "height": 429
        },
        "id": "QN92gfw1k3lz",
        "outputId": "bf0f0eae-774b-4926-b3f2-7635e3e0549e"
      },
      "execution_count": null,
      "outputs": [
        {
          "output_type": "execute_result",
          "data": {
            "text/plain": [
              "work_year             0\n",
              "experience_level      0\n",
              "employment_type       0\n",
              "job_title             0\n",
              "salary                0\n",
              "salary_currency       0\n",
              "salary_in_usd         0\n",
              "employee_residence    0\n",
              "remote_ratio          0\n",
              "company_location      0\n",
              "company_size          0\n",
              "dtype: int64"
            ],
            "text/html": [
              "<div>\n",
              "<style scoped>\n",
              "    .dataframe tbody tr th:only-of-type {\n",
              "        vertical-align: middle;\n",
              "    }\n",
              "\n",
              "    .dataframe tbody tr th {\n",
              "        vertical-align: top;\n",
              "    }\n",
              "\n",
              "    .dataframe thead th {\n",
              "        text-align: right;\n",
              "    }\n",
              "</style>\n",
              "<table border=\"1\" class=\"dataframe\">\n",
              "  <thead>\n",
              "    <tr style=\"text-align: right;\">\n",
              "      <th></th>\n",
              "      <th>0</th>\n",
              "    </tr>\n",
              "  </thead>\n",
              "  <tbody>\n",
              "    <tr>\n",
              "      <th>work_year</th>\n",
              "      <td>0</td>\n",
              "    </tr>\n",
              "    <tr>\n",
              "      <th>experience_level</th>\n",
              "      <td>0</td>\n",
              "    </tr>\n",
              "    <tr>\n",
              "      <th>employment_type</th>\n",
              "      <td>0</td>\n",
              "    </tr>\n",
              "    <tr>\n",
              "      <th>job_title</th>\n",
              "      <td>0</td>\n",
              "    </tr>\n",
              "    <tr>\n",
              "      <th>salary</th>\n",
              "      <td>0</td>\n",
              "    </tr>\n",
              "    <tr>\n",
              "      <th>salary_currency</th>\n",
              "      <td>0</td>\n",
              "    </tr>\n",
              "    <tr>\n",
              "      <th>salary_in_usd</th>\n",
              "      <td>0</td>\n",
              "    </tr>\n",
              "    <tr>\n",
              "      <th>employee_residence</th>\n",
              "      <td>0</td>\n",
              "    </tr>\n",
              "    <tr>\n",
              "      <th>remote_ratio</th>\n",
              "      <td>0</td>\n",
              "    </tr>\n",
              "    <tr>\n",
              "      <th>company_location</th>\n",
              "      <td>0</td>\n",
              "    </tr>\n",
              "    <tr>\n",
              "      <th>company_size</th>\n",
              "      <td>0</td>\n",
              "    </tr>\n",
              "  </tbody>\n",
              "</table>\n",
              "</div><br><label><b>dtype:</b> int64</label>"
            ]
          },
          "metadata": {},
          "execution_count": 54
        }
      ]
    },
    {
      "cell_type": "code",
      "source": [
        "dtt.columns"
      ],
      "metadata": {
        "colab": {
          "base_uri": "https://localhost:8080/"
        },
        "id": "AoWW7ieHk8bA",
        "outputId": "0b8036b4-147b-4c44-f1e9-c821bc90b1d1"
      },
      "execution_count": null,
      "outputs": [
        {
          "output_type": "execute_result",
          "data": {
            "text/plain": [
              "Index(['work_year', 'experience_level', 'employment_type', 'job_title',\n",
              "       'salary', 'salary_currency', 'salary_in_usd', 'employee_residence',\n",
              "       'remote_ratio', 'company_location', 'company_size'],\n",
              "      dtype='object')"
            ]
          },
          "metadata": {},
          "execution_count": 55
        }
      ]
    },
    {
      "cell_type": "code",
      "source": [
        "x=dtt[['work_year', 'experience_level', 'employment_type', 'job_title',\n",
        "       'salary', 'salary_currency', 'salary_in_usd', 'employee_residence',\n",
        "       'remote_ratio', 'company_location']]\n",
        "print(x)\n",
        "y=dtt[['company_size']]\n",
        "print(y)"
      ],
      "metadata": {
        "colab": {
          "base_uri": "https://localhost:8080/"
        },
        "id": "2B9Obiu3lGuK",
        "outputId": "9e2add75-ce38-4174-b7be-e7ec146b6ec4"
      },
      "execution_count": null,
      "outputs": [
        {
          "output_type": "stream",
          "name": "stdout",
          "text": [
            "      work_year experience_level employment_type                 job_title  \\\n",
            "0          2023               SE              FT  Principal Data Scientist   \n",
            "1          2023               MI              CT               ML Engineer   \n",
            "2          2023               MI              CT               ML Engineer   \n",
            "3          2023               SE              FT            Data Scientist   \n",
            "4          2023               SE              FT            Data Scientist   \n",
            "...         ...              ...             ...                       ...   \n",
            "3750       2020               SE              FT            Data Scientist   \n",
            "3751       2021               MI              FT  Principal Data Scientist   \n",
            "3752       2020               EN              FT            Data Scientist   \n",
            "3753       2020               EN              CT     Business Data Analyst   \n",
            "3754       2021               SE              FT      Data Science Manager   \n",
            "\n",
            "       salary salary_currency  salary_in_usd employee_residence  remote_ratio  \\\n",
            "0       80000             EUR          85847                 ES           100   \n",
            "1       30000             USD          30000                 US           100   \n",
            "2       25500             USD          25500                 US           100   \n",
            "3      175000             USD         175000                 CA           100   \n",
            "4      120000             USD         120000                 CA           100   \n",
            "...       ...             ...            ...                ...           ...   \n",
            "3750   412000             USD         412000                 US           100   \n",
            "3751   151000             USD         151000                 US           100   \n",
            "3752   105000             USD         105000                 US           100   \n",
            "3753   100000             USD         100000                 US           100   \n",
            "3754  7000000             INR          94665                 IN            50   \n",
            "\n",
            "     company_location  \n",
            "0                  ES  \n",
            "1                  US  \n",
            "2                  US  \n",
            "3                  CA  \n",
            "4                  CA  \n",
            "...               ...  \n",
            "3750               US  \n",
            "3751               US  \n",
            "3752               US  \n",
            "3753               US  \n",
            "3754               IN  \n",
            "\n",
            "[3755 rows x 10 columns]\n",
            "     company_size\n",
            "0               L\n",
            "1               S\n",
            "2               S\n",
            "3               M\n",
            "4               M\n",
            "...           ...\n",
            "3750            L\n",
            "3751            L\n",
            "3752            S\n",
            "3753            L\n",
            "3754            L\n",
            "\n",
            "[3755 rows x 1 columns]\n"
          ]
        }
      ]
    },
    {
      "cell_type": "code",
      "source": [
        "from sklearn.preprocessing import LabelEncoder\n",
        "le=LabelEncoder()\n",
        "y=le.fit_transform(y)\n",
        "print(y)\n"
      ],
      "metadata": {
        "colab": {
          "base_uri": "https://localhost:8080/"
        },
        "id": "N2f7EBYVldAW",
        "outputId": "68fe1544-1dd4-4fd8-d5ef-1d9abf259f2f"
      },
      "execution_count": null,
      "outputs": [
        {
          "output_type": "stream",
          "name": "stdout",
          "text": [
            "[0 2 2 ... 2 0 0]\n"
          ]
        },
        {
          "output_type": "stream",
          "name": "stderr",
          "text": [
            "/usr/local/lib/python3.10/dist-packages/sklearn/preprocessing/_label.py:114: DataConversionWarning: A column-vector y was passed when a 1d array was expected. Please change the shape of y to (n_samples, ), for example using ravel().\n",
            "  y = column_or_1d(y, warn=True)\n"
          ]
        }
      ]
    },
    {
      "cell_type": "code",
      "source": [
        "le=LabelEncoder()\n",
        "x['experience_level'] = le.fit_transform(x['experience_level'])\n",
        "print(x['experience_level'])\n",
        "le=LabelEncoder()\n",
        "x['employment_type'] = le.fit_transform(x['employment_type'])\n",
        "print(x['employment_type'])\n",
        "le=LabelEncoder()\n",
        "x['job_title'] = le.fit_transform(x['job_title'])\n",
        "print(x['job_title'])\n",
        "le=LabelEncoder()\n",
        "x['salary_currency'] = le.fit_transform(x['salary_currency'])\n",
        "print(x['salary_currency'])\n",
        "le=LabelEncoder()\n",
        "x['employee_residence'] = le.fit_transform(x['employee_residence'])\n",
        "print(x['employee_residence'])\n",
        "le=LabelEncoder()\n",
        "x['company_location'] = le.fit_transform(x['company_location'])\n",
        "print(x['company_location'])"
      ],
      "metadata": {
        "colab": {
          "base_uri": "https://localhost:8080/"
        },
        "collapsed": true,
        "id": "j-J8BEFLlpfO",
        "outputId": "0bda2144-0af1-4798-86f6-494389d272c6"
      },
      "execution_count": null,
      "outputs": [
        {
          "output_type": "stream",
          "name": "stdout",
          "text": [
            "0       3\n",
            "1       2\n",
            "2       2\n",
            "3       3\n",
            "4       3\n",
            "       ..\n",
            "3750    3\n",
            "3751    2\n",
            "3752    0\n",
            "3753    0\n",
            "3754    3\n",
            "Name: experience_level, Length: 3755, dtype: int64\n",
            "0       2\n",
            "1       0\n",
            "2       0\n",
            "3       2\n",
            "4       2\n",
            "       ..\n",
            "3750    2\n",
            "3751    2\n",
            "3752    2\n",
            "3753    0\n",
            "3754    2\n",
            "Name: employment_type, Length: 3755, dtype: int64\n",
            "0       84\n",
            "1       66\n",
            "2       66\n",
            "3       47\n",
            "4       47\n",
            "        ..\n",
            "3750    47\n",
            "3751    84\n",
            "3752    47\n",
            "3753    17\n",
            "3754    45\n",
            "Name: job_title, Length: 3755, dtype: int64\n",
            "0        7\n",
            "1       19\n",
            "2       19\n",
            "3       19\n",
            "4       19\n",
            "        ..\n",
            "3750    19\n",
            "3751    19\n",
            "3752    19\n",
            "3753    19\n",
            "3754    12\n",
            "Name: salary_currency, Length: 3755, dtype: int64\n",
            "0       26\n",
            "1       75\n",
            "2       75\n",
            "3       11\n",
            "4       11\n",
            "        ..\n",
            "3750    75\n",
            "3751    75\n",
            "3752    75\n",
            "3753    75\n",
            "3754    39\n",
            "Name: employee_residence, Length: 3755, dtype: int64\n",
            "0       25\n",
            "1       70\n",
            "2       70\n",
            "3       12\n",
            "4       12\n",
            "        ..\n",
            "3750    70\n",
            "3751    70\n",
            "3752    70\n",
            "3753    70\n",
            "3754    38\n",
            "Name: company_location, Length: 3755, dtype: int64\n"
          ]
        },
        {
          "output_type": "stream",
          "name": "stderr",
          "text": [
            "<ipython-input-58-9b93366e84bc>:2: SettingWithCopyWarning: \n",
            "A value is trying to be set on a copy of a slice from a DataFrame.\n",
            "Try using .loc[row_indexer,col_indexer] = value instead\n",
            "\n",
            "See the caveats in the documentation: https://pandas.pydata.org/pandas-docs/stable/user_guide/indexing.html#returning-a-view-versus-a-copy\n",
            "  x['experience_level'] = le.fit_transform(x['experience_level'])\n",
            "<ipython-input-58-9b93366e84bc>:5: SettingWithCopyWarning: \n",
            "A value is trying to be set on a copy of a slice from a DataFrame.\n",
            "Try using .loc[row_indexer,col_indexer] = value instead\n",
            "\n",
            "See the caveats in the documentation: https://pandas.pydata.org/pandas-docs/stable/user_guide/indexing.html#returning-a-view-versus-a-copy\n",
            "  x['employment_type'] = le.fit_transform(x['employment_type'])\n",
            "<ipython-input-58-9b93366e84bc>:8: SettingWithCopyWarning: \n",
            "A value is trying to be set on a copy of a slice from a DataFrame.\n",
            "Try using .loc[row_indexer,col_indexer] = value instead\n",
            "\n",
            "See the caveats in the documentation: https://pandas.pydata.org/pandas-docs/stable/user_guide/indexing.html#returning-a-view-versus-a-copy\n",
            "  x['job_title'] = le.fit_transform(x['job_title'])\n",
            "<ipython-input-58-9b93366e84bc>:11: SettingWithCopyWarning: \n",
            "A value is trying to be set on a copy of a slice from a DataFrame.\n",
            "Try using .loc[row_indexer,col_indexer] = value instead\n",
            "\n",
            "See the caveats in the documentation: https://pandas.pydata.org/pandas-docs/stable/user_guide/indexing.html#returning-a-view-versus-a-copy\n",
            "  x['salary_currency'] = le.fit_transform(x['salary_currency'])\n",
            "<ipython-input-58-9b93366e84bc>:14: SettingWithCopyWarning: \n",
            "A value is trying to be set on a copy of a slice from a DataFrame.\n",
            "Try using .loc[row_indexer,col_indexer] = value instead\n",
            "\n",
            "See the caveats in the documentation: https://pandas.pydata.org/pandas-docs/stable/user_guide/indexing.html#returning-a-view-versus-a-copy\n",
            "  x['employee_residence'] = le.fit_transform(x['employee_residence'])\n",
            "<ipython-input-58-9b93366e84bc>:17: SettingWithCopyWarning: \n",
            "A value is trying to be set on a copy of a slice from a DataFrame.\n",
            "Try using .loc[row_indexer,col_indexer] = value instead\n",
            "\n",
            "See the caveats in the documentation: https://pandas.pydata.org/pandas-docs/stable/user_guide/indexing.html#returning-a-view-versus-a-copy\n",
            "  x['company_location'] = le.fit_transform(x['company_location'])\n"
          ]
        }
      ]
    },
    {
      "cell_type": "code",
      "source": [
        "print(x)"
      ],
      "metadata": {
        "colab": {
          "base_uri": "https://localhost:8080/"
        },
        "id": "e1PjE1o2rARi",
        "outputId": "2081c2a8-5db9-4e9a-bdf5-a022e53e1d9e"
      },
      "execution_count": null,
      "outputs": [
        {
          "output_type": "stream",
          "name": "stdout",
          "text": [
            "      work_year  experience_level  employment_type  job_title   salary  \\\n",
            "0          2023                 3                2         84    80000   \n",
            "1          2023                 2                0         66    30000   \n",
            "2          2023                 2                0         66    25500   \n",
            "3          2023                 3                2         47   175000   \n",
            "4          2023                 3                2         47   120000   \n",
            "...         ...               ...              ...        ...      ...   \n",
            "3750       2020                 3                2         47   412000   \n",
            "3751       2021                 2                2         84   151000   \n",
            "3752       2020                 0                2         47   105000   \n",
            "3753       2020                 0                0         17   100000   \n",
            "3754       2021                 3                2         45  7000000   \n",
            "\n",
            "      salary_currency  salary_in_usd  employee_residence  remote_ratio  \\\n",
            "0                   7          85847                  26           100   \n",
            "1                  19          30000                  75           100   \n",
            "2                  19          25500                  75           100   \n",
            "3                  19         175000                  11           100   \n",
            "4                  19         120000                  11           100   \n",
            "...               ...            ...                 ...           ...   \n",
            "3750               19         412000                  75           100   \n",
            "3751               19         151000                  75           100   \n",
            "3752               19         105000                  75           100   \n",
            "3753               19         100000                  75           100   \n",
            "3754               12          94665                  39            50   \n",
            "\n",
            "      company_location  \n",
            "0                   25  \n",
            "1                   70  \n",
            "2                   70  \n",
            "3                   12  \n",
            "4                   12  \n",
            "...                ...  \n",
            "3750                70  \n",
            "3751                70  \n",
            "3752                70  \n",
            "3753                70  \n",
            "3754                38  \n",
            "\n",
            "[3755 rows x 10 columns]\n"
          ]
        }
      ]
    },
    {
      "cell_type": "code",
      "source": [
        "from sklearn.model_selection import train_test_split\n",
        "from keras.utils import to_categorical\n",
        "y = y.astype(int)\n",
        "y_encoded=to_categorical(y)\n",
        "from sklearn.model_selection import train_test_split\n",
        "X_train,X_test,y_train,y_test=train_test_split(x,y_encoded,test_size=0.2,random_state=42)\n",
        "X_train.shape,X_test.shape,y_train.shape,y_test.shape"
      ],
      "metadata": {
        "colab": {
          "base_uri": "https://localhost:8080/"
        },
        "id": "i849DI26lpps",
        "outputId": "05407ec9-f310-4fde-9107-51e74d9a8b3f"
      },
      "execution_count": null,
      "outputs": [
        {
          "output_type": "execute_result",
          "data": {
            "text/plain": [
              "((3004, 10), (751, 10), (3004, 3), (751, 3))"
            ]
          },
          "metadata": {},
          "execution_count": 72
        }
      ]
    },
    {
      "cell_type": "code",
      "source": [
        "from keras.models import Sequential\n",
        "from keras.layers import Dense\n",
        "model=Sequential()\n",
        "model.add(Dense(32,input_shape=(X_train.shape[1],),activation='relu'))\n",
        "#model.add(Dense(1,activation='relu'))\n",
        "model.add(Dense(3,activation='softmax'))"
      ],
      "metadata": {
        "colab": {
          "base_uri": "https://localhost:8080/"
        },
        "id": "GTtfIYidlpsS",
        "outputId": "f832a0e9-74b9-4f63-87b4-141efb1a91c2"
      },
      "execution_count": null,
      "outputs": [
        {
          "output_type": "stream",
          "name": "stderr",
          "text": [
            "/usr/local/lib/python3.10/dist-packages/keras/src/layers/core/dense.py:87: UserWarning: Do not pass an `input_shape`/`input_dim` argument to a layer. When using Sequential models, prefer using an `Input(shape)` object as the first layer in the model instead.\n",
            "  super().__init__(activity_regularizer=activity_regularizer, **kwargs)\n"
          ]
        }
      ]
    },
    {
      "cell_type": "code",
      "source": [
        "model.summary()"
      ],
      "metadata": {
        "colab": {
          "base_uri": "https://localhost:8080/",
          "height": 193
        },
        "id": "zq1l-7XGlpu3",
        "outputId": "bde0201b-15b4-448a-efe0-831db4d99228"
      },
      "execution_count": null,
      "outputs": [
        {
          "output_type": "display_data",
          "data": {
            "text/plain": [
              "\u001b[1mModel: \"sequential_10\"\u001b[0m\n"
            ],
            "text/html": [
              "<pre style=\"white-space:pre;overflow-x:auto;line-height:normal;font-family:Menlo,'DejaVu Sans Mono',consolas,'Courier New',monospace\"><span style=\"font-weight: bold\">Model: \"sequential_10\"</span>\n",
              "</pre>\n"
            ]
          },
          "metadata": {}
        },
        {
          "output_type": "display_data",
          "data": {
            "text/plain": [
              "┏━━━━━━━━━━━━━━━━━━━━━━━━━━━━━━━━━━━━━━┳━━━━━━━━━━━━━━━━━━━━━━━━━━━━━┳━━━━━━━━━━━━━━━━━┓\n",
              "┃\u001b[1m \u001b[0m\u001b[1mLayer (type)                        \u001b[0m\u001b[1m \u001b[0m┃\u001b[1m \u001b[0m\u001b[1mOutput Shape               \u001b[0m\u001b[1m \u001b[0m┃\u001b[1m \u001b[0m\u001b[1m        Param #\u001b[0m\u001b[1m \u001b[0m┃\n",
              "┡━━━━━━━━━━━━━━━━━━━━━━━━━━━━━━━━━━━━━━╇━━━━━━━━━━━━━━━━━━━━━━━━━━━━━╇━━━━━━━━━━━━━━━━━┩\n",
              "│ dense_22 (\u001b[38;5;33mDense\u001b[0m)                     │ (\u001b[38;5;45mNone\u001b[0m, \u001b[38;5;34m32\u001b[0m)                  │             \u001b[38;5;34m352\u001b[0m │\n",
              "├──────────────────────────────────────┼─────────────────────────────┼─────────────────┤\n",
              "│ dense_23 (\u001b[38;5;33mDense\u001b[0m)                     │ (\u001b[38;5;45mNone\u001b[0m, \u001b[38;5;34m3\u001b[0m)                   │              \u001b[38;5;34m99\u001b[0m │\n",
              "└──────────────────────────────────────┴─────────────────────────────┴─────────────────┘\n"
            ],
            "text/html": [
              "<pre style=\"white-space:pre;overflow-x:auto;line-height:normal;font-family:Menlo,'DejaVu Sans Mono',consolas,'Courier New',monospace\">┏━━━━━━━━━━━━━━━━━━━━━━━━━━━━━━━━━━━━━━┳━━━━━━━━━━━━━━━━━━━━━━━━━━━━━┳━━━━━━━━━━━━━━━━━┓\n",
              "┃<span style=\"font-weight: bold\"> Layer (type)                         </span>┃<span style=\"font-weight: bold\"> Output Shape                </span>┃<span style=\"font-weight: bold\">         Param # </span>┃\n",
              "┡━━━━━━━━━━━━━━━━━━━━━━━━━━━━━━━━━━━━━━╇━━━━━━━━━━━━━━━━━━━━━━━━━━━━━╇━━━━━━━━━━━━━━━━━┩\n",
              "│ dense_22 (<span style=\"color: #0087ff; text-decoration-color: #0087ff\">Dense</span>)                     │ (<span style=\"color: #00d7ff; text-decoration-color: #00d7ff\">None</span>, <span style=\"color: #00af00; text-decoration-color: #00af00\">32</span>)                  │             <span style=\"color: #00af00; text-decoration-color: #00af00\">352</span> │\n",
              "├──────────────────────────────────────┼─────────────────────────────┼─────────────────┤\n",
              "│ dense_23 (<span style=\"color: #0087ff; text-decoration-color: #0087ff\">Dense</span>)                     │ (<span style=\"color: #00d7ff; text-decoration-color: #00d7ff\">None</span>, <span style=\"color: #00af00; text-decoration-color: #00af00\">3</span>)                   │              <span style=\"color: #00af00; text-decoration-color: #00af00\">99</span> │\n",
              "└──────────────────────────────────────┴─────────────────────────────┴─────────────────┘\n",
              "</pre>\n"
            ]
          },
          "metadata": {}
        },
        {
          "output_type": "display_data",
          "data": {
            "text/plain": [
              "\u001b[1m Total params: \u001b[0m\u001b[38;5;34m451\u001b[0m (1.76 KB)\n"
            ],
            "text/html": [
              "<pre style=\"white-space:pre;overflow-x:auto;line-height:normal;font-family:Menlo,'DejaVu Sans Mono',consolas,'Courier New',monospace\"><span style=\"font-weight: bold\"> Total params: </span><span style=\"color: #00af00; text-decoration-color: #00af00\">451</span> (1.76 KB)\n",
              "</pre>\n"
            ]
          },
          "metadata": {}
        },
        {
          "output_type": "display_data",
          "data": {
            "text/plain": [
              "\u001b[1m Trainable params: \u001b[0m\u001b[38;5;34m451\u001b[0m (1.76 KB)\n"
            ],
            "text/html": [
              "<pre style=\"white-space:pre;overflow-x:auto;line-height:normal;font-family:Menlo,'DejaVu Sans Mono',consolas,'Courier New',monospace\"><span style=\"font-weight: bold\"> Trainable params: </span><span style=\"color: #00af00; text-decoration-color: #00af00\">451</span> (1.76 KB)\n",
              "</pre>\n"
            ]
          },
          "metadata": {}
        },
        {
          "output_type": "display_data",
          "data": {
            "text/plain": [
              "\u001b[1m Non-trainable params: \u001b[0m\u001b[38;5;34m0\u001b[0m (0.00 B)\n"
            ],
            "text/html": [
              "<pre style=\"white-space:pre;overflow-x:auto;line-height:normal;font-family:Menlo,'DejaVu Sans Mono',consolas,'Courier New',monospace\"><span style=\"font-weight: bold\"> Non-trainable params: </span><span style=\"color: #00af00; text-decoration-color: #00af00\">0</span> (0.00 B)\n",
              "</pre>\n"
            ]
          },
          "metadata": {}
        }
      ]
    },
    {
      "cell_type": "code",
      "source": [
        "print(x)"
      ],
      "metadata": {
        "colab": {
          "base_uri": "https://localhost:8080/"
        },
        "id": "L64YXapxuSNw",
        "outputId": "dc34bda2-405f-415c-a838-f051f835c950"
      },
      "execution_count": null,
      "outputs": [
        {
          "output_type": "stream",
          "name": "stdout",
          "text": [
            "      work_year  experience_level  employment_type  job_title   salary  \\\n",
            "0          2023                 3                2         84    80000   \n",
            "1          2023                 2                0         66    30000   \n",
            "2          2023                 2                0         66    25500   \n",
            "3          2023                 3                2         47   175000   \n",
            "4          2023                 3                2         47   120000   \n",
            "...         ...               ...              ...        ...      ...   \n",
            "3750       2020                 3                2         47   412000   \n",
            "3751       2021                 2                2         84   151000   \n",
            "3752       2020                 0                2         47   105000   \n",
            "3753       2020                 0                0         17   100000   \n",
            "3754       2021                 3                2         45  7000000   \n",
            "\n",
            "      salary_currency  salary_in_usd  employee_residence  remote_ratio  \\\n",
            "0                   7          85847                  26           100   \n",
            "1                  19          30000                  75           100   \n",
            "2                  19          25500                  75           100   \n",
            "3                  19         175000                  11           100   \n",
            "4                  19         120000                  11           100   \n",
            "...               ...            ...                 ...           ...   \n",
            "3750               19         412000                  75           100   \n",
            "3751               19         151000                  75           100   \n",
            "3752               19         105000                  75           100   \n",
            "3753               19         100000                  75           100   \n",
            "3754               12          94665                  39            50   \n",
            "\n",
            "      company_location  \n",
            "0                   25  \n",
            "1                   70  \n",
            "2                   70  \n",
            "3                   12  \n",
            "4                   12  \n",
            "...                ...  \n",
            "3750                70  \n",
            "3751                70  \n",
            "3752                70  \n",
            "3753                70  \n",
            "3754                38  \n",
            "\n",
            "[3755 rows x 10 columns]\n"
          ]
        }
      ]
    },
    {
      "cell_type": "code",
      "source": [
        "print(y)"
      ],
      "metadata": {
        "colab": {
          "base_uri": "https://localhost:8080/"
        },
        "id": "0uduJvkduYX2",
        "outputId": "91747a0c-4ff9-4fa9-b4a1-c0b22cae34e6"
      },
      "execution_count": null,
      "outputs": [
        {
          "output_type": "stream",
          "name": "stdout",
          "text": [
            "[0 2 2 ... 2 0 0]\n"
          ]
        }
      ]
    },
    {
      "cell_type": "code",
      "source": [
        "model.compile(optimizer='adam',loss='categorical_crossentropy',metrics=['accuracy'])\n",
        "model.fit(X_train,y_train,epochs=50,batch_size=5,validation_data=(X_test,y_test))\n"
      ],
      "metadata": {
        "colab": {
          "base_uri": "https://localhost:8080/"
        },
        "id": "4XYxNAI5u2is",
        "outputId": "c1a10606-3732-4ff1-db3b-8262e6bb22e9"
      },
      "execution_count": null,
      "outputs": [
        {
          "output_type": "stream",
          "name": "stdout",
          "text": [
            "Epoch 1/50\n",
            "\u001b[1m601/601\u001b[0m \u001b[32m━━━━━━━━━━━━━━━━━━━━\u001b[0m\u001b[37m\u001b[0m \u001b[1m2s\u001b[0m 2ms/step - accuracy: 0.7627 - loss: 481.6899 - val_accuracy: 0.8415 - val_loss: 232.8149\n",
            "Epoch 2/50\n",
            "\u001b[1m601/601\u001b[0m \u001b[32m━━━━━━━━━━━━━━━━━━━━\u001b[0m\u001b[37m\u001b[0m \u001b[1m2s\u001b[0m 2ms/step - accuracy: 0.7621 - loss: 928.4663 - val_accuracy: 0.8362 - val_loss: 284.9100\n",
            "Epoch 3/50\n",
            "\u001b[1m601/601\u001b[0m \u001b[32m━━━━━━━━━━━━━━━━━━━━\u001b[0m\u001b[37m\u001b[0m \u001b[1m1s\u001b[0m 2ms/step - accuracy: 0.7443 - loss: 317.3309 - val_accuracy: 0.8362 - val_loss: 715.6071\n",
            "Epoch 4/50\n",
            "\u001b[1m601/601\u001b[0m \u001b[32m━━━━━━━━━━━━━━━━━━━━\u001b[0m\u001b[37m\u001b[0m \u001b[1m2s\u001b[0m 2ms/step - accuracy: 0.7513 - loss: 386.5302 - val_accuracy: 0.8562 - val_loss: 269.4113\n",
            "Epoch 5/50\n",
            "\u001b[1m601/601\u001b[0m \u001b[32m━━━━━━━━━━━━━━━━━━━━\u001b[0m\u001b[37m\u001b[0m \u001b[1m1s\u001b[0m 2ms/step - accuracy: 0.7638 - loss: 729.0253 - val_accuracy: 0.5779 - val_loss: 286.7353\n",
            "Epoch 6/50\n",
            "\u001b[1m601/601\u001b[0m \u001b[32m━━━━━━━━━━━━━━━━━━━━\u001b[0m\u001b[37m\u001b[0m \u001b[1m1s\u001b[0m 2ms/step - accuracy: 0.7671 - loss: 98.2258 - val_accuracy: 0.8415 - val_loss: 134.7016\n",
            "Epoch 7/50\n",
            "\u001b[1m601/601\u001b[0m \u001b[32m━━━━━━━━━━━━━━━━━━━━\u001b[0m\u001b[37m\u001b[0m \u001b[1m3s\u001b[0m 3ms/step - accuracy: 0.7501 - loss: 992.6162 - val_accuracy: 0.1305 - val_loss: 402.5397\n",
            "Epoch 8/50\n",
            "\u001b[1m601/601\u001b[0m \u001b[32m━━━━━━━━━━━━━━━━━━━━\u001b[0m\u001b[37m\u001b[0m \u001b[1m2s\u001b[0m 2ms/step - accuracy: 0.7446 - loss: 461.4652 - val_accuracy: 0.7949 - val_loss: 204.2359\n",
            "Epoch 9/50\n",
            "\u001b[1m601/601\u001b[0m \u001b[32m━━━━━━━━━━━━━━━━━━━━\u001b[0m\u001b[37m\u001b[0m \u001b[1m1s\u001b[0m 2ms/step - accuracy: 0.7594 - loss: 219.1030 - val_accuracy: 0.8509 - val_loss: 1184.2920\n",
            "Epoch 10/50\n",
            "\u001b[1m601/601\u001b[0m \u001b[32m━━━━━━━━━━━━━━━━━━━━\u001b[0m\u001b[37m\u001b[0m \u001b[1m3s\u001b[0m 2ms/step - accuracy: 0.7683 - loss: 478.4558 - val_accuracy: 0.8455 - val_loss: 176.3945\n",
            "Epoch 11/50\n",
            "\u001b[1m601/601\u001b[0m \u001b[32m━━━━━━━━━━━━━━━━━━━━\u001b[0m\u001b[37m\u001b[0m \u001b[1m2s\u001b[0m 2ms/step - accuracy: 0.7685 - loss: 256.2152 - val_accuracy: 0.8509 - val_loss: 1109.5413\n",
            "Epoch 12/50\n",
            "\u001b[1m601/601\u001b[0m \u001b[32m━━━━━━━━━━━━━━━━━━━━\u001b[0m\u001b[37m\u001b[0m \u001b[1m1s\u001b[0m 2ms/step - accuracy: 0.7672 - loss: 648.8769 - val_accuracy: 0.8469 - val_loss: 148.2222\n",
            "Epoch 13/50\n",
            "\u001b[1m601/601\u001b[0m \u001b[32m━━━━━━━━━━━━━━━━━━━━\u001b[0m\u001b[37m\u001b[0m \u001b[1m2s\u001b[0m 4ms/step - accuracy: 0.7617 - loss: 249.8034 - val_accuracy: 0.7750 - val_loss: 231.0215\n",
            "Epoch 14/50\n",
            "\u001b[1m601/601\u001b[0m \u001b[32m━━━━━━━━━━━━━━━━━━━━\u001b[0m\u001b[37m\u001b[0m \u001b[1m2s\u001b[0m 2ms/step - accuracy: 0.7641 - loss: 432.7215 - val_accuracy: 0.8495 - val_loss: 579.3670\n",
            "Epoch 15/50\n",
            "\u001b[1m601/601\u001b[0m \u001b[32m━━━━━━━━━━━━━━━━━━━━\u001b[0m\u001b[37m\u001b[0m \u001b[1m2s\u001b[0m 2ms/step - accuracy: 0.7713 - loss: 375.7478 - val_accuracy: 0.7736 - val_loss: 571.0015\n",
            "Epoch 16/50\n",
            "\u001b[1m601/601\u001b[0m \u001b[32m━━━━━━━━━━━━━━━━━━━━\u001b[0m\u001b[37m\u001b[0m \u001b[1m1s\u001b[0m 2ms/step - accuracy: 0.7015 - loss: 470.2624 - val_accuracy: 0.8322 - val_loss: 382.4995\n",
            "Epoch 17/50\n",
            "\u001b[1m601/601\u001b[0m \u001b[32m━━━━━━━━━━━━━━━━━━━━\u001b[0m\u001b[37m\u001b[0m \u001b[1m1s\u001b[0m 2ms/step - accuracy: 0.7465 - loss: 282.8784 - val_accuracy: 0.8455 - val_loss: 183.1537\n",
            "Epoch 18/50\n",
            "\u001b[1m601/601\u001b[0m \u001b[32m━━━━━━━━━━━━━━━━━━━━\u001b[0m\u001b[37m\u001b[0m \u001b[1m1s\u001b[0m 2ms/step - accuracy: 0.7519 - loss: 326.7801 - val_accuracy: 0.7870 - val_loss: 243.7626\n",
            "Epoch 19/50\n",
            "\u001b[1m601/601\u001b[0m \u001b[32m━━━━━━━━━━━━━━━━━━━━\u001b[0m\u001b[37m\u001b[0m \u001b[1m1s\u001b[0m 2ms/step - accuracy: 0.7458 - loss: 211.6334 - val_accuracy: 0.8389 - val_loss: 839.3589\n",
            "Epoch 20/50\n",
            "\u001b[1m601/601\u001b[0m \u001b[32m━━━━━━━━━━━━━━━━━━━━\u001b[0m\u001b[37m\u001b[0m \u001b[1m1s\u001b[0m 2ms/step - accuracy: 0.7643 - loss: 944.6400 - val_accuracy: 0.8442 - val_loss: 148.1427\n",
            "Epoch 21/50\n",
            "\u001b[1m601/601\u001b[0m \u001b[32m━━━━━━━━━━━━━━━━━━━━\u001b[0m\u001b[37m\u001b[0m \u001b[1m3s\u001b[0m 3ms/step - accuracy: 0.7809 - loss: 67.8685 - val_accuracy: 0.8509 - val_loss: 171.1613\n",
            "Epoch 22/50\n",
            "\u001b[1m601/601\u001b[0m \u001b[32m━━━━━━━━━━━━━━━━━━━━\u001b[0m\u001b[37m\u001b[0m \u001b[1m2s\u001b[0m 2ms/step - accuracy: 0.7567 - loss: 188.5168 - val_accuracy: 0.8509 - val_loss: 222.9049\n",
            "Epoch 23/50\n",
            "\u001b[1m601/601\u001b[0m \u001b[32m━━━━━━━━━━━━━━━━━━━━\u001b[0m\u001b[37m\u001b[0m \u001b[1m1s\u001b[0m 2ms/step - accuracy: 0.7589 - loss: 251.0375 - val_accuracy: 0.8442 - val_loss: 53.1604\n",
            "Epoch 24/50\n",
            "\u001b[1m601/601\u001b[0m \u001b[32m━━━━━━━━━━━━━━━━━━━━\u001b[0m\u001b[37m\u001b[0m \u001b[1m1s\u001b[0m 2ms/step - accuracy: 0.7586 - loss: 109.5123 - val_accuracy: 0.8482 - val_loss: 390.4152\n",
            "Epoch 25/50\n",
            "\u001b[1m601/601\u001b[0m \u001b[32m━━━━━━━━━━━━━━━━━━━━\u001b[0m\u001b[37m\u001b[0m \u001b[1m1s\u001b[0m 2ms/step - accuracy: 0.7884 - loss: 343.5248 - val_accuracy: 0.8109 - val_loss: 88.0381\n",
            "Epoch 26/50\n",
            "\u001b[1m601/601\u001b[0m \u001b[32m━━━━━━━━━━━━━━━━━━━━\u001b[0m\u001b[37m\u001b[0m \u001b[1m3s\u001b[0m 2ms/step - accuracy: 0.7565 - loss: 74.6754 - val_accuracy: 0.7963 - val_loss: 77.3532\n",
            "Epoch 27/50\n",
            "\u001b[1m601/601\u001b[0m \u001b[32m━━━━━━━━━━━━━━━━━━━━\u001b[0m\u001b[37m\u001b[0m \u001b[1m3s\u001b[0m 2ms/step - accuracy: 0.7494 - loss: 174.6820 - val_accuracy: 0.8495 - val_loss: 77.5247\n",
            "Epoch 28/50\n",
            "\u001b[1m601/601\u001b[0m \u001b[32m━━━━━━━━━━━━━━━━━━━━\u001b[0m\u001b[37m\u001b[0m \u001b[1m3s\u001b[0m 3ms/step - accuracy: 0.7643 - loss: 315.3952 - val_accuracy: 0.8402 - val_loss: 177.1290\n",
            "Epoch 29/50\n",
            "\u001b[1m601/601\u001b[0m \u001b[32m━━━━━━━━━━━━━━━━━━━━\u001b[0m\u001b[37m\u001b[0m \u001b[1m2s\u001b[0m 2ms/step - accuracy: 0.7403 - loss: 94.4660 - val_accuracy: 0.8389 - val_loss: 390.7927\n",
            "Epoch 30/50\n",
            "\u001b[1m601/601\u001b[0m \u001b[32m━━━━━━━━━━━━━━━━━━━━\u001b[0m\u001b[37m\u001b[0m \u001b[1m1s\u001b[0m 2ms/step - accuracy: 0.7629 - loss: 334.5287 - val_accuracy: 0.8242 - val_loss: 103.9536\n",
            "Epoch 31/50\n",
            "\u001b[1m601/601\u001b[0m \u001b[32m━━━━━━━━━━━━━━━━━━━━\u001b[0m\u001b[37m\u001b[0m \u001b[1m1s\u001b[0m 2ms/step - accuracy: 0.7558 - loss: 120.5291 - val_accuracy: 0.8309 - val_loss: 36.8117\n",
            "Epoch 32/50\n",
            "\u001b[1m601/601\u001b[0m \u001b[32m━━━━━━━━━━━━━━━━━━━━\u001b[0m\u001b[37m\u001b[0m \u001b[1m1s\u001b[0m 2ms/step - accuracy: 0.7567 - loss: 146.1650 - val_accuracy: 0.8429 - val_loss: 34.7310\n",
            "Epoch 33/50\n",
            "\u001b[1m601/601\u001b[0m \u001b[32m━━━━━━━━━━━━━━━━━━━━\u001b[0m\u001b[37m\u001b[0m \u001b[1m2s\u001b[0m 2ms/step - accuracy: 0.7553 - loss: 104.0738 - val_accuracy: 0.8482 - val_loss: 34.3131\n",
            "Epoch 34/50\n",
            "\u001b[1m601/601\u001b[0m \u001b[32m━━━━━━━━━━━━━━━━━━━━\u001b[0m\u001b[37m\u001b[0m \u001b[1m1s\u001b[0m 2ms/step - accuracy: 0.7507 - loss: 451.1688 - val_accuracy: 0.8096 - val_loss: 274.9245\n",
            "Epoch 35/50\n",
            "\u001b[1m601/601\u001b[0m \u001b[32m━━━━━━━━━━━━━━━━━━━━\u001b[0m\u001b[37m\u001b[0m \u001b[1m3s\u001b[0m 3ms/step - accuracy: 0.7593 - loss: 194.7627 - val_accuracy: 0.7710 - val_loss: 44.8601\n",
            "Epoch 36/50\n",
            "\u001b[1m601/601\u001b[0m \u001b[32m━━━━━━━━━━━━━━━━━━━━\u001b[0m\u001b[37m\u001b[0m \u001b[1m2s\u001b[0m 2ms/step - accuracy: 0.7525 - loss: 56.6788 - val_accuracy: 0.8482 - val_loss: 384.3060\n",
            "Epoch 37/50\n",
            "\u001b[1m601/601\u001b[0m \u001b[32m━━━━━━━━━━━━━━━━━━━━\u001b[0m\u001b[37m\u001b[0m \u001b[1m1s\u001b[0m 2ms/step - accuracy: 0.8095 - loss: 273.5726 - val_accuracy: 0.8389 - val_loss: 771.9936\n",
            "Epoch 38/50\n",
            "\u001b[1m601/601\u001b[0m \u001b[32m━━━━━━━━━━━━━━━━━━━━\u001b[0m\u001b[37m\u001b[0m \u001b[1m1s\u001b[0m 2ms/step - accuracy: 0.7368 - loss: 588.6824 - val_accuracy: 0.8522 - val_loss: 46.6079\n",
            "Epoch 39/50\n",
            "\u001b[1m601/601\u001b[0m \u001b[32m━━━━━━━━━━━━━━━━━━━━\u001b[0m\u001b[37m\u001b[0m \u001b[1m1s\u001b[0m 2ms/step - accuracy: 0.7619 - loss: 209.8607 - val_accuracy: 0.0559 - val_loss: 339.3140\n",
            "Epoch 40/50\n",
            "\u001b[1m601/601\u001b[0m \u001b[32m━━━━━━━━━━━━━━━━━━━━\u001b[0m\u001b[37m\u001b[0m \u001b[1m1s\u001b[0m 2ms/step - accuracy: 0.7114 - loss: 139.3731 - val_accuracy: 0.6711 - val_loss: 425.9523\n",
            "Epoch 41/50\n",
            "\u001b[1m601/601\u001b[0m \u001b[32m━━━━━━━━━━━━━━━━━━━━\u001b[0m\u001b[37m\u001b[0m \u001b[1m1s\u001b[0m 2ms/step - accuracy: 0.7197 - loss: 230.4402 - val_accuracy: 0.8375 - val_loss: 195.8677\n",
            "Epoch 42/50\n",
            "\u001b[1m601/601\u001b[0m \u001b[32m━━━━━━━━━━━━━━━━━━━━\u001b[0m\u001b[37m\u001b[0m \u001b[1m1s\u001b[0m 2ms/step - accuracy: 0.7172 - loss: 127.5853 - val_accuracy: 0.8509 - val_loss: 204.8491\n",
            "Epoch 43/50\n",
            "\u001b[1m601/601\u001b[0m \u001b[32m━━━━━━━━━━━━━━━━━━━━\u001b[0m\u001b[37m\u001b[0m \u001b[1m2s\u001b[0m 3ms/step - accuracy: 0.8172 - loss: 154.4660 - val_accuracy: 0.8016 - val_loss: 13.2113\n",
            "Epoch 44/50\n",
            "\u001b[1m601/601\u001b[0m \u001b[32m━━━━━━━━━━━━━━━━━━━━\u001b[0m\u001b[37m\u001b[0m \u001b[1m2s\u001b[0m 3ms/step - accuracy: 0.7446 - loss: 159.6512 - val_accuracy: 0.8402 - val_loss: 11.5929\n",
            "Epoch 45/50\n",
            "\u001b[1m601/601\u001b[0m \u001b[32m━━━━━━━━━━━━━━━━━━━━\u001b[0m\u001b[37m\u001b[0m \u001b[1m2s\u001b[0m 2ms/step - accuracy: 0.7476 - loss: 102.9543 - val_accuracy: 0.7710 - val_loss: 64.9709\n",
            "Epoch 46/50\n",
            "\u001b[1m601/601\u001b[0m \u001b[32m━━━━━━━━━━━━━━━━━━━━\u001b[0m\u001b[37m\u001b[0m \u001b[1m2s\u001b[0m 2ms/step - accuracy: 0.7139 - loss: 96.9509 - val_accuracy: 0.8442 - val_loss: 102.5200\n",
            "Epoch 47/50\n",
            "\u001b[1m601/601\u001b[0m \u001b[32m━━━━━━━━━━━━━━━━━━━━\u001b[0m\u001b[37m\u001b[0m \u001b[1m2s\u001b[0m 2ms/step - accuracy: 0.8150 - loss: 68.1577 - val_accuracy: 0.8522 - val_loss: 53.9887\n",
            "Epoch 48/50\n",
            "\u001b[1m601/601\u001b[0m \u001b[32m━━━━━━━━━━━━━━━━━━━━\u001b[0m\u001b[37m\u001b[0m \u001b[1m1s\u001b[0m 2ms/step - accuracy: 0.7779 - loss: 85.2847 - val_accuracy: 0.7790 - val_loss: 244.8660\n",
            "Epoch 49/50\n",
            "\u001b[1m601/601\u001b[0m \u001b[32m━━━━━━━━━━━━━━━━━━━━\u001b[0m\u001b[37m\u001b[0m \u001b[1m3s\u001b[0m 3ms/step - accuracy: 0.7488 - loss: 100.3408 - val_accuracy: 0.8482 - val_loss: 156.2522\n",
            "Epoch 50/50\n",
            "\u001b[1m601/601\u001b[0m \u001b[32m━━━━━━━━━━━━━━━━━━━━\u001b[0m\u001b[37m\u001b[0m \u001b[1m2s\u001b[0m 3ms/step - accuracy: 0.7752 - loss: 53.3100 - val_accuracy: 0.8322 - val_loss: 15.0125\n"
          ]
        },
        {
          "output_type": "execute_result",
          "data": {
            "text/plain": [
              "<keras.src.callbacks.history.History at 0x7db374f38a90>"
            ]
          },
          "metadata": {},
          "execution_count": 83
        }
      ]
    },
    {
      "cell_type": "code",
      "source": [
        "model.evaluate(X_test,y_test)"
      ],
      "metadata": {
        "colab": {
          "base_uri": "https://localhost:8080/"
        },
        "id": "tyHLCk-Vu2s9",
        "outputId": "792c44f4-6997-4a85-a18c-931187c22cd2"
      },
      "execution_count": null,
      "outputs": [
        {
          "output_type": "stream",
          "name": "stdout",
          "text": [
            "\u001b[1m24/24\u001b[0m \u001b[32m━━━━━━━━━━━━━━━━━━━━\u001b[0m\u001b[37m\u001b[0m \u001b[1m0s\u001b[0m 2ms/step - accuracy: 0.8217 - loss: 21.7607 \n"
          ]
        },
        {
          "output_type": "execute_result",
          "data": {
            "text/plain": [
              "[15.012540817260742, 0.8322237133979797]"
            ]
          },
          "metadata": {},
          "execution_count": 84
        }
      ]
    },
    {
      "cell_type": "code",
      "source": [
        "print('loss:',model.evaluate(X_test,y_test)[0])\n",
        "print('accuracy:',model.evaluate(X_test,y_test)[1])"
      ],
      "metadata": {
        "colab": {
          "base_uri": "https://localhost:8080/"
        },
        "id": "pxnQvucl55w1",
        "outputId": "11778cfd-6f86-4e9a-d961-5ae39e894574"
      },
      "execution_count": null,
      "outputs": [
        {
          "output_type": "stream",
          "name": "stdout",
          "text": [
            "\u001b[1m24/24\u001b[0m \u001b[32m━━━━━━━━━━━━━━━━━━━━\u001b[0m\u001b[37m\u001b[0m \u001b[1m0s\u001b[0m 1ms/step - accuracy: 0.8217 - loss: 21.7607 \n",
            "loss: 15.012540817260742\n",
            "\u001b[1m24/24\u001b[0m \u001b[32m━━━━━━━━━━━━━━━━━━━━\u001b[0m\u001b[37m\u001b[0m \u001b[1m0s\u001b[0m 1ms/step - accuracy: 0.8217 - loss: 21.7607 \n",
            "accuracy: 0.8322237133979797\n"
          ]
        }
      ]
    }
  ]
}