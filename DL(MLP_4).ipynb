{
  "nbformat": 4,
  "nbformat_minor": 0,
  "metadata": {
    "colab": {
      "provenance": []
    },
    "kernelspec": {
      "name": "python3",
      "display_name": "Python 3"
    },
    "language_info": {
      "name": "python"
    }
  },
  "cells": [
    {
      "cell_type": "code",
      "execution_count": null,
      "metadata": {
        "colab": {
          "base_uri": "https://localhost:8080/"
        },
        "id": "ydzfF0-3F9qj",
        "outputId": "f405d190-90d8-4c7a-9fed-25303db72610"
      },
      "outputs": [
        {
          "output_type": "stream",
          "name": "stdout",
          "text": [
            "      loan_id   no_of_dependents      education  self_employed   income_annum  \\\n",
            "0           1                  2       Graduate             No        9600000   \n",
            "1           2                  0   Not Graduate            Yes        4100000   \n",
            "2           3                  3       Graduate             No        9100000   \n",
            "3           4                  3       Graduate             No        8200000   \n",
            "4           5                  5   Not Graduate            Yes        9800000   \n",
            "...       ...                ...            ...            ...            ...   \n",
            "4264     4265                  5       Graduate            Yes        1000000   \n",
            "4265     4266                  0   Not Graduate            Yes        3300000   \n",
            "4266     4267                  2   Not Graduate             No        6500000   \n",
            "4267     4268                  1   Not Graduate             No        4100000   \n",
            "4268     4269                  1       Graduate             No        9200000   \n",
            "\n",
            "       loan_amount   loan_term   cibil_score   residential_assets_value  \\\n",
            "0         29900000          12           778                    2400000   \n",
            "1         12200000           8           417                    2700000   \n",
            "2         29700000          20           506                    7100000   \n",
            "3         30700000           8           467                   18200000   \n",
            "4         24200000          20           382                   12400000   \n",
            "...            ...         ...           ...                        ...   \n",
            "4264       2300000          12           317                    2800000   \n",
            "4265      11300000          20           559                    4200000   \n",
            "4266      23900000          18           457                    1200000   \n",
            "4267      12800000           8           780                    8200000   \n",
            "4268      29700000          10           607                   17800000   \n",
            "\n",
            "       commercial_assets_value   luxury_assets_value   bank_asset_value  \\\n",
            "0                     17600000              22700000            8000000   \n",
            "1                      2200000               8800000            3300000   \n",
            "2                      4500000              33300000           12800000   \n",
            "3                      3300000              23300000            7900000   \n",
            "4                      8200000              29400000            5000000   \n",
            "...                        ...                   ...                ...   \n",
            "4264                    500000               3300000             800000   \n",
            "4265                   2900000              11000000            1900000   \n",
            "4266                  12400000              18100000            7300000   \n",
            "4267                    700000              14100000            5800000   \n",
            "4268                  11800000              35700000           12000000   \n",
            "\n",
            "      loan_status  \n",
            "0        Approved  \n",
            "1        Rejected  \n",
            "2        Rejected  \n",
            "3        Rejected  \n",
            "4        Rejected  \n",
            "...           ...  \n",
            "4264     Rejected  \n",
            "4265     Approved  \n",
            "4266     Rejected  \n",
            "4267     Approved  \n",
            "4268     Approved  \n",
            "\n",
            "[4269 rows x 13 columns]\n"
          ]
        }
      ],
      "source": [
        "import pandas as pd\n",
        "dt=pd.read_csv(\"/content/loan.csv\")\n",
        "print(dt)"
      ]
    },
    {
      "cell_type": "code",
      "source": [
        "print(dt.isnull().sum())"
      ],
      "metadata": {
        "colab": {
          "base_uri": "https://localhost:8080/"
        },
        "id": "ikR0NOuLHOpK",
        "outputId": "67142312-8807-4730-b394-71a7a9551460"
      },
      "execution_count": null,
      "outputs": [
        {
          "output_type": "stream",
          "name": "stdout",
          "text": [
            "loan_id                      0\n",
            " no_of_dependents            0\n",
            " education                   0\n",
            " self_employed               0\n",
            " income_annum                0\n",
            " loan_amount                 0\n",
            " loan_term                   0\n",
            " cibil_score                 0\n",
            " residential_assets_value    0\n",
            " commercial_assets_value     0\n",
            " luxury_assets_value         0\n",
            " bank_asset_value            0\n",
            " loan_status                 0\n",
            "dtype: int64\n"
          ]
        }
      ]
    },
    {
      "cell_type": "code",
      "source": [
        "dt.columns"
      ],
      "metadata": {
        "colab": {
          "base_uri": "https://localhost:8080/"
        },
        "id": "b4vCf6PuHOrd",
        "outputId": "9d4446a0-4e26-481a-d51a-010d4c55135c"
      },
      "execution_count": null,
      "outputs": [
        {
          "output_type": "execute_result",
          "data": {
            "text/plain": [
              "Index(['loan_id', ' no_of_dependents', ' education', ' self_employed',\n",
              "       ' income_annum', ' loan_amount', ' loan_term', ' cibil_score',\n",
              "       ' residential_assets_value', ' commercial_assets_value',\n",
              "       ' luxury_assets_value', ' bank_asset_value', ' loan_status'],\n",
              "      dtype='object')"
            ]
          },
          "metadata": {},
          "execution_count": 11
        }
      ]
    },
    {
      "cell_type": "markdown",
      "source": [],
      "metadata": {
        "id": "yYuyD1B0LpYH"
      }
    },
    {
      "cell_type": "code",
      "source": [
        "x=dt[['loan_id', ' no_of_dependents', ' education', ' self_employed',\n",
        "       ' income_annum', ' loan_amount', ' loan_term', ' cibil_score',\n",
        "       ' residential_assets_value', ' commercial_assets_value',\n",
        "       ' luxury_assets_value', ' bank_asset_value']]\n",
        "print(x)"
      ],
      "metadata": {
        "colab": {
          "base_uri": "https://localhost:8080/"
        },
        "id": "bUFsDpDyHOuN",
        "outputId": "cf029b8d-4e6e-48c7-bed9-663f67817568"
      },
      "execution_count": null,
      "outputs": [
        {
          "output_type": "stream",
          "name": "stdout",
          "text": [
            "      loan_id   no_of_dependents      education  self_employed   income_annum  \\\n",
            "0           1                  2       Graduate             No        9600000   \n",
            "1           2                  0   Not Graduate            Yes        4100000   \n",
            "2           3                  3       Graduate             No        9100000   \n",
            "3           4                  3       Graduate             No        8200000   \n",
            "4           5                  5   Not Graduate            Yes        9800000   \n",
            "...       ...                ...            ...            ...            ...   \n",
            "4264     4265                  5       Graduate            Yes        1000000   \n",
            "4265     4266                  0   Not Graduate            Yes        3300000   \n",
            "4266     4267                  2   Not Graduate             No        6500000   \n",
            "4267     4268                  1   Not Graduate             No        4100000   \n",
            "4268     4269                  1       Graduate             No        9200000   \n",
            "\n",
            "       loan_amount   loan_term   cibil_score   residential_assets_value  \\\n",
            "0         29900000          12           778                    2400000   \n",
            "1         12200000           8           417                    2700000   \n",
            "2         29700000          20           506                    7100000   \n",
            "3         30700000           8           467                   18200000   \n",
            "4         24200000          20           382                   12400000   \n",
            "...            ...         ...           ...                        ...   \n",
            "4264       2300000          12           317                    2800000   \n",
            "4265      11300000          20           559                    4200000   \n",
            "4266      23900000          18           457                    1200000   \n",
            "4267      12800000           8           780                    8200000   \n",
            "4268      29700000          10           607                   17800000   \n",
            "\n",
            "       commercial_assets_value   luxury_assets_value   bank_asset_value  \n",
            "0                     17600000              22700000            8000000  \n",
            "1                      2200000               8800000            3300000  \n",
            "2                      4500000              33300000           12800000  \n",
            "3                      3300000              23300000            7900000  \n",
            "4                      8200000              29400000            5000000  \n",
            "...                        ...                   ...                ...  \n",
            "4264                    500000               3300000             800000  \n",
            "4265                   2900000              11000000            1900000  \n",
            "4266                  12400000              18100000            7300000  \n",
            "4267                    700000              14100000            5800000  \n",
            "4268                  11800000              35700000           12000000  \n",
            "\n",
            "[4269 rows x 12 columns]\n"
          ]
        }
      ]
    },
    {
      "cell_type": "code",
      "source": [
        "y=dt[[' loan_status']]\n",
        "print(y)"
      ],
      "metadata": {
        "id": "TRvBezq2HOwc",
        "colab": {
          "base_uri": "https://localhost:8080/"
        },
        "outputId": "94a2c548-89b0-48af-92e2-0f10368a3ded"
      },
      "execution_count": null,
      "outputs": [
        {
          "output_type": "stream",
          "name": "stdout",
          "text": [
            "      loan_status\n",
            "0        Approved\n",
            "1        Rejected\n",
            "2        Rejected\n",
            "3        Rejected\n",
            "4        Rejected\n",
            "...           ...\n",
            "4264     Rejected\n",
            "4265     Approved\n",
            "4266     Rejected\n",
            "4267     Approved\n",
            "4268     Approved\n",
            "\n",
            "[4269 rows x 1 columns]\n"
          ]
        }
      ]
    },
    {
      "cell_type": "code",
      "source": [
        "from sklearn.preprocessing import LabelEncoder\n",
        "le=LabelEncoder()\n",
        "y=le.fit_transform(y)\n",
        "print(y)"
      ],
      "metadata": {
        "id": "8AG86WqEHOys",
        "colab": {
          "base_uri": "https://localhost:8080/"
        },
        "outputId": "c6e2ad40-d912-42c6-84ed-4e117f1bd14c"
      },
      "execution_count": null,
      "outputs": [
        {
          "output_type": "stream",
          "name": "stdout",
          "text": [
            "[0 1 1 ... 1 0 0]\n"
          ]
        },
        {
          "output_type": "stream",
          "name": "stderr",
          "text": [
            "/usr/local/lib/python3.10/dist-packages/sklearn/preprocessing/_label.py:114: DataConversionWarning: A column-vector y was passed when a 1d array was expected. Please change the shape of y to (n_samples, ), for example using ravel().\n",
            "  y = column_or_1d(y, warn=True)\n"
          ]
        }
      ]
    },
    {
      "cell_type": "code",
      "source": [
        "le=LabelEncoder()\n",
        "x[' education'] = le.fit_transform(x[' education'])\n",
        "print(x[' education'])\n",
        "le=LabelEncoder()\n",
        "x[' self_employed'] = le.fit_transform(x[' self_employed'])\n",
        "print(x[' self_employed'])\n",
        "print(x)"
      ],
      "metadata": {
        "id": "DL8cC6A5HO3p",
        "colab": {
          "base_uri": "https://localhost:8080/"
        },
        "outputId": "5a8080e8-3943-47a5-c9e8-de085477a66c"
      },
      "execution_count": null,
      "outputs": [
        {
          "output_type": "stream",
          "name": "stdout",
          "text": [
            "0       0\n",
            "1       1\n",
            "2       0\n",
            "3       0\n",
            "4       1\n",
            "       ..\n",
            "4264    0\n",
            "4265    1\n",
            "4266    1\n",
            "4267    1\n",
            "4268    0\n",
            "Name:  education, Length: 4269, dtype: int64\n",
            "0       0\n",
            "1       1\n",
            "2       0\n",
            "3       0\n",
            "4       1\n",
            "       ..\n",
            "4264    1\n",
            "4265    1\n",
            "4266    0\n",
            "4267    0\n",
            "4268    0\n",
            "Name:  self_employed, Length: 4269, dtype: int64\n",
            "      loan_id   no_of_dependents   education   self_employed   income_annum  \\\n",
            "0           1                  2           0               0        9600000   \n",
            "1           2                  0           1               1        4100000   \n",
            "2           3                  3           0               0        9100000   \n",
            "3           4                  3           0               0        8200000   \n",
            "4           5                  5           1               1        9800000   \n",
            "...       ...                ...         ...             ...            ...   \n",
            "4264     4265                  5           0               1        1000000   \n",
            "4265     4266                  0           1               1        3300000   \n",
            "4266     4267                  2           1               0        6500000   \n",
            "4267     4268                  1           1               0        4100000   \n",
            "4268     4269                  1           0               0        9200000   \n",
            "\n",
            "       loan_amount   loan_term   cibil_score   residential_assets_value  \\\n",
            "0         29900000          12           778                    2400000   \n",
            "1         12200000           8           417                    2700000   \n",
            "2         29700000          20           506                    7100000   \n",
            "3         30700000           8           467                   18200000   \n",
            "4         24200000          20           382                   12400000   \n",
            "...            ...         ...           ...                        ...   \n",
            "4264       2300000          12           317                    2800000   \n",
            "4265      11300000          20           559                    4200000   \n",
            "4266      23900000          18           457                    1200000   \n",
            "4267      12800000           8           780                    8200000   \n",
            "4268      29700000          10           607                   17800000   \n",
            "\n",
            "       commercial_assets_value   luxury_assets_value   bank_asset_value  \n",
            "0                     17600000              22700000            8000000  \n",
            "1                      2200000               8800000            3300000  \n",
            "2                      4500000              33300000           12800000  \n",
            "3                      3300000              23300000            7900000  \n",
            "4                      8200000              29400000            5000000  \n",
            "...                        ...                   ...                ...  \n",
            "4264                    500000               3300000             800000  \n",
            "4265                   2900000              11000000            1900000  \n",
            "4266                  12400000              18100000            7300000  \n",
            "4267                    700000              14100000            5800000  \n",
            "4268                  11800000              35700000           12000000  \n",
            "\n",
            "[4269 rows x 12 columns]\n"
          ]
        },
        {
          "output_type": "stream",
          "name": "stderr",
          "text": [
            "<ipython-input-15-6e0b53e37f3b>:2: SettingWithCopyWarning: \n",
            "A value is trying to be set on a copy of a slice from a DataFrame.\n",
            "Try using .loc[row_indexer,col_indexer] = value instead\n",
            "\n",
            "See the caveats in the documentation: https://pandas.pydata.org/pandas-docs/stable/user_guide/indexing.html#returning-a-view-versus-a-copy\n",
            "  x[' education'] = le.fit_transform(x[' education'])\n",
            "<ipython-input-15-6e0b53e37f3b>:5: SettingWithCopyWarning: \n",
            "A value is trying to be set on a copy of a slice from a DataFrame.\n",
            "Try using .loc[row_indexer,col_indexer] = value instead\n",
            "\n",
            "See the caveats in the documentation: https://pandas.pydata.org/pandas-docs/stable/user_guide/indexing.html#returning-a-view-versus-a-copy\n",
            "  x[' self_employed'] = le.fit_transform(x[' self_employed'])\n"
          ]
        }
      ]
    },
    {
      "cell_type": "code",
      "source": [
        "from sklearn.preprocessing import StandardScaler\n",
        "scaler=StandardScaler()\n",
        "x=scaler.fit_transform(x)"
      ],
      "metadata": {
        "id": "kXA6wz7lHO7D"
      },
      "execution_count": null,
      "outputs": []
    },
    {
      "cell_type": "code",
      "source": [
        "from sklearn.model_selection import train_test_split\n",
        "from keras.utils import to_categorical\n",
        "y_encoded=to_categorical(y)\n",
        "from sklearn.model_selection import train_test_split\n",
        "X_train,X_test,y_train,y_test=train_test_split(x,y_encoded,test_size=0.2,random_state=42)\n",
        "X_train.shape"
      ],
      "metadata": {
        "colab": {
          "base_uri": "https://localhost:8080/"
        },
        "id": "NxWX_ElV5xzd",
        "outputId": "91b06f1e-b784-484e-b62a-10cc56dcf1e1"
      },
      "execution_count": null,
      "outputs": [
        {
          "output_type": "execute_result",
          "data": {
            "text/plain": [
              "(3415, 12)"
            ]
          },
          "metadata": {},
          "execution_count": 17
        }
      ]
    },
    {
      "cell_type": "code",
      "source": [
        "from keras.models import Sequential\n",
        "from keras.layers import Dense\n",
        "model=Sequential()\n",
        "model.add(Dense(32,input_shape=(X_train.shape[1],),activation='relu'))\n",
        "model.add(Dense(2,activation='relu'))\n",
        "model.add(Dense(2,activation='softmax'))"
      ],
      "metadata": {
        "id": "JOOg3XH_HPDb",
        "colab": {
          "base_uri": "https://localhost:8080/",
          "height": 211
        },
        "outputId": "dc2773fd-820a-454f-a2fc-8efbc982070d"
      },
      "execution_count": null,
      "outputs": [
        {
          "output_type": "error",
          "ename": "NameError",
          "evalue": "name 'X_train' is not defined",
          "traceback": [
            "\u001b[0;31m---------------------------------------------------------------------------\u001b[0m",
            "\u001b[0;31mNameError\u001b[0m                                 Traceback (most recent call last)",
            "\u001b[0;32m<ipython-input-2-5352defe04e5>\u001b[0m in \u001b[0;36m<cell line: 4>\u001b[0;34m()\u001b[0m\n\u001b[1;32m      2\u001b[0m \u001b[0;32mfrom\u001b[0m \u001b[0mkeras\u001b[0m\u001b[0;34m.\u001b[0m\u001b[0mlayers\u001b[0m \u001b[0;32mimport\u001b[0m \u001b[0mDense\u001b[0m\u001b[0;34m\u001b[0m\u001b[0;34m\u001b[0m\u001b[0m\n\u001b[1;32m      3\u001b[0m \u001b[0mmodel\u001b[0m\u001b[0;34m=\u001b[0m\u001b[0mSequential\u001b[0m\u001b[0;34m(\u001b[0m\u001b[0;34m)\u001b[0m\u001b[0;34m\u001b[0m\u001b[0;34m\u001b[0m\u001b[0m\n\u001b[0;32m----> 4\u001b[0;31m \u001b[0mmodel\u001b[0m\u001b[0;34m.\u001b[0m\u001b[0madd\u001b[0m\u001b[0;34m(\u001b[0m\u001b[0mDense\u001b[0m\u001b[0;34m(\u001b[0m\u001b[0;36m32\u001b[0m\u001b[0;34m,\u001b[0m\u001b[0minput_shape\u001b[0m\u001b[0;34m=\u001b[0m\u001b[0;34m(\u001b[0m\u001b[0mX_train\u001b[0m\u001b[0;34m.\u001b[0m\u001b[0mshape\u001b[0m\u001b[0;34m[\u001b[0m\u001b[0;36m1\u001b[0m\u001b[0;34m]\u001b[0m\u001b[0;34m,\u001b[0m\u001b[0;34m)\u001b[0m\u001b[0;34m,\u001b[0m\u001b[0mactivation\u001b[0m\u001b[0;34m=\u001b[0m\u001b[0;34m'relu'\u001b[0m\u001b[0;34m)\u001b[0m\u001b[0;34m)\u001b[0m\u001b[0;34m\u001b[0m\u001b[0;34m\u001b[0m\u001b[0m\n\u001b[0m\u001b[1;32m      5\u001b[0m \u001b[0mmodel\u001b[0m\u001b[0;34m.\u001b[0m\u001b[0madd\u001b[0m\u001b[0;34m(\u001b[0m\u001b[0mDense\u001b[0m\u001b[0;34m(\u001b[0m\u001b[0;36m2\u001b[0m\u001b[0;34m,\u001b[0m\u001b[0mactivation\u001b[0m\u001b[0;34m=\u001b[0m\u001b[0;34m'relu'\u001b[0m\u001b[0;34m)\u001b[0m\u001b[0;34m)\u001b[0m\u001b[0;34m\u001b[0m\u001b[0;34m\u001b[0m\u001b[0m\n\u001b[1;32m      6\u001b[0m \u001b[0mmodel\u001b[0m\u001b[0;34m.\u001b[0m\u001b[0madd\u001b[0m\u001b[0;34m(\u001b[0m\u001b[0mDense\u001b[0m\u001b[0;34m(\u001b[0m\u001b[0;36m2\u001b[0m\u001b[0;34m,\u001b[0m\u001b[0mactivation\u001b[0m\u001b[0;34m=\u001b[0m\u001b[0;34m'softmax'\u001b[0m\u001b[0;34m)\u001b[0m\u001b[0;34m)\u001b[0m\u001b[0;34m\u001b[0m\u001b[0;34m\u001b[0m\u001b[0m\n",
            "\u001b[0;31mNameError\u001b[0m: name 'X_train' is not defined"
          ]
        }
      ]
    },
    {
      "cell_type": "code",
      "source": [
        "model.summary()"
      ],
      "metadata": {
        "id": "EpIwiBolHPG9",
        "colab": {
          "base_uri": "https://localhost:8080/",
          "height": 193
        },
        "outputId": "5ff54187-f211-4653-abd3-63b9e7bd0646"
      },
      "execution_count": null,
      "outputs": [
        {
          "output_type": "display_data",
          "data": {
            "text/plain": [
              "\u001b[1mModel: \"sequential\"\u001b[0m\n"
            ],
            "text/html": [
              "<pre style=\"white-space:pre;overflow-x:auto;line-height:normal;font-family:Menlo,'DejaVu Sans Mono',consolas,'Courier New',monospace\"><span style=\"font-weight: bold\">Model: \"sequential\"</span>\n",
              "</pre>\n"
            ]
          },
          "metadata": {}
        },
        {
          "output_type": "display_data",
          "data": {
            "text/plain": [
              "┏━━━━━━━━━━━━━━━━━━━━━━━━━━━━━━━━━━━━━━┳━━━━━━━━━━━━━━━━━━━━━━━━━━━━━┳━━━━━━━━━━━━━━━━━┓\n",
              "┃\u001b[1m \u001b[0m\u001b[1mLayer (type)                        \u001b[0m\u001b[1m \u001b[0m┃\u001b[1m \u001b[0m\u001b[1mOutput Shape               \u001b[0m\u001b[1m \u001b[0m┃\u001b[1m \u001b[0m\u001b[1m        Param #\u001b[0m\u001b[1m \u001b[0m┃\n",
              "┡━━━━━━━━━━━━━━━━━━━━━━━━━━━━━━━━━━━━━━╇━━━━━━━━━━━━━━━━━━━━━━━━━━━━━╇━━━━━━━━━━━━━━━━━┩\n",
              "│ dense (\u001b[38;5;33mDense\u001b[0m)                        │ (\u001b[38;5;45mNone\u001b[0m, \u001b[38;5;34m32\u001b[0m)                  │             \u001b[38;5;34m416\u001b[0m │\n",
              "├──────────────────────────────────────┼─────────────────────────────┼─────────────────┤\n",
              "│ dense_1 (\u001b[38;5;33mDense\u001b[0m)                      │ (\u001b[38;5;45mNone\u001b[0m, \u001b[38;5;34m2\u001b[0m)                   │              \u001b[38;5;34m66\u001b[0m │\n",
              "└──────────────────────────────────────┴─────────────────────────────┴─────────────────┘\n"
            ],
            "text/html": [
              "<pre style=\"white-space:pre;overflow-x:auto;line-height:normal;font-family:Menlo,'DejaVu Sans Mono',consolas,'Courier New',monospace\">┏━━━━━━━━━━━━━━━━━━━━━━━━━━━━━━━━━━━━━━┳━━━━━━━━━━━━━━━━━━━━━━━━━━━━━┳━━━━━━━━━━━━━━━━━┓\n",
              "┃<span style=\"font-weight: bold\"> Layer (type)                         </span>┃<span style=\"font-weight: bold\"> Output Shape                </span>┃<span style=\"font-weight: bold\">         Param # </span>┃\n",
              "┡━━━━━━━━━━━━━━━━━━━━━━━━━━━━━━━━━━━━━━╇━━━━━━━━━━━━━━━━━━━━━━━━━━━━━╇━━━━━━━━━━━━━━━━━┩\n",
              "│ dense (<span style=\"color: #0087ff; text-decoration-color: #0087ff\">Dense</span>)                        │ (<span style=\"color: #00d7ff; text-decoration-color: #00d7ff\">None</span>, <span style=\"color: #00af00; text-decoration-color: #00af00\">32</span>)                  │             <span style=\"color: #00af00; text-decoration-color: #00af00\">416</span> │\n",
              "├──────────────────────────────────────┼─────────────────────────────┼─────────────────┤\n",
              "│ dense_1 (<span style=\"color: #0087ff; text-decoration-color: #0087ff\">Dense</span>)                      │ (<span style=\"color: #00d7ff; text-decoration-color: #00d7ff\">None</span>, <span style=\"color: #00af00; text-decoration-color: #00af00\">2</span>)                   │              <span style=\"color: #00af00; text-decoration-color: #00af00\">66</span> │\n",
              "└──────────────────────────────────────┴─────────────────────────────┴─────────────────┘\n",
              "</pre>\n"
            ]
          },
          "metadata": {}
        },
        {
          "output_type": "display_data",
          "data": {
            "text/plain": [
              "\u001b[1m Total params: \u001b[0m\u001b[38;5;34m482\u001b[0m (1.88 KB)\n"
            ],
            "text/html": [
              "<pre style=\"white-space:pre;overflow-x:auto;line-height:normal;font-family:Menlo,'DejaVu Sans Mono',consolas,'Courier New',monospace\"><span style=\"font-weight: bold\"> Total params: </span><span style=\"color: #00af00; text-decoration-color: #00af00\">482</span> (1.88 KB)\n",
              "</pre>\n"
            ]
          },
          "metadata": {}
        },
        {
          "output_type": "display_data",
          "data": {
            "text/plain": [
              "\u001b[1m Trainable params: \u001b[0m\u001b[38;5;34m482\u001b[0m (1.88 KB)\n"
            ],
            "text/html": [
              "<pre style=\"white-space:pre;overflow-x:auto;line-height:normal;font-family:Menlo,'DejaVu Sans Mono',consolas,'Courier New',monospace\"><span style=\"font-weight: bold\"> Trainable params: </span><span style=\"color: #00af00; text-decoration-color: #00af00\">482</span> (1.88 KB)\n",
              "</pre>\n"
            ]
          },
          "metadata": {}
        },
        {
          "output_type": "display_data",
          "data": {
            "text/plain": [
              "\u001b[1m Non-trainable params: \u001b[0m\u001b[38;5;34m0\u001b[0m (0.00 B)\n"
            ],
            "text/html": [
              "<pre style=\"white-space:pre;overflow-x:auto;line-height:normal;font-family:Menlo,'DejaVu Sans Mono',consolas,'Courier New',monospace\"><span style=\"font-weight: bold\"> Non-trainable params: </span><span style=\"color: #00af00; text-decoration-color: #00af00\">0</span> (0.00 B)\n",
              "</pre>\n"
            ]
          },
          "metadata": {}
        }
      ]
    },
    {
      "cell_type": "code",
      "source": [
        "model.compile(optimizer='adam',loss='categorical_crossentropy',metrics=['accuracy'])\n",
        "model.fit(X_train,y_train,epochs=10,batch_size=10,validation_data=(X_test,y_test))"
      ],
      "metadata": {
        "id": "0m9lNGH2HPMb",
        "colab": {
          "base_uri": "https://localhost:8080/"
        },
        "outputId": "647819ec-bbf9-40cf-a420-8ebf173a2001"
      },
      "execution_count": null,
      "outputs": [
        {
          "output_type": "stream",
          "name": "stdout",
          "text": [
            "Epoch 1/10\n",
            "\u001b[1m342/342\u001b[0m \u001b[32m━━━━━━━━━━━━━━━━━━━━\u001b[0m\u001b[37m\u001b[0m \u001b[1m2s\u001b[0m 2ms/step - accuracy: 0.5806 - loss: 0.7026 - val_accuracy: 0.9063 - val_loss: 0.2997\n",
            "Epoch 2/10\n",
            "\u001b[1m342/342\u001b[0m \u001b[32m━━━━━━━━━━━━━━━━━━━━\u001b[0m\u001b[37m\u001b[0m \u001b[1m1s\u001b[0m 3ms/step - accuracy: 0.9136 - loss: 0.2586 - val_accuracy: 0.9239 - val_loss: 0.2198\n",
            "Epoch 3/10\n",
            "\u001b[1m342/342\u001b[0m \u001b[32m━━━━━━━━━━━━━━━━━━━━\u001b[0m\u001b[37m\u001b[0m \u001b[1m1s\u001b[0m 4ms/step - accuracy: 0.9243 - loss: 0.2213 - val_accuracy: 0.9239 - val_loss: 0.2011\n",
            "Epoch 4/10\n",
            "\u001b[1m342/342\u001b[0m \u001b[32m━━━━━━━━━━━━━━━━━━━━\u001b[0m\u001b[37m\u001b[0m \u001b[1m2s\u001b[0m 2ms/step - accuracy: 0.9316 - loss: 0.1865 - val_accuracy: 0.9169 - val_loss: 0.1926\n",
            "Epoch 5/10\n",
            "\u001b[1m342/342\u001b[0m \u001b[32m━━━━━━━━━━━━━━━━━━━━\u001b[0m\u001b[37m\u001b[0m \u001b[1m1s\u001b[0m 2ms/step - accuracy: 0.9307 - loss: 0.1770 - val_accuracy: 0.9227 - val_loss: 0.1821\n",
            "Epoch 6/10\n",
            "\u001b[1m342/342\u001b[0m \u001b[32m━━━━━━━━━━━━━━━━━━━━\u001b[0m\u001b[37m\u001b[0m \u001b[1m1s\u001b[0m 2ms/step - accuracy: 0.9376 - loss: 0.1810 - val_accuracy: 0.9321 - val_loss: 0.1687\n",
            "Epoch 7/10\n",
            "\u001b[1m342/342\u001b[0m \u001b[32m━━━━━━━━━━━━━━━━━━━━\u001b[0m\u001b[37m\u001b[0m \u001b[1m1s\u001b[0m 2ms/step - accuracy: 0.9420 - loss: 0.1674 - val_accuracy: 0.9309 - val_loss: 0.1643\n",
            "Epoch 8/10\n",
            "\u001b[1m342/342\u001b[0m \u001b[32m━━━━━━━━━━━━━━━━━━━━\u001b[0m\u001b[37m\u001b[0m \u001b[1m1s\u001b[0m 2ms/step - accuracy: 0.9515 - loss: 0.1511 - val_accuracy: 0.9344 - val_loss: 0.1613\n",
            "Epoch 9/10\n",
            "\u001b[1m342/342\u001b[0m \u001b[32m━━━━━━━━━━━━━━━━━━━━\u001b[0m\u001b[37m\u001b[0m \u001b[1m1s\u001b[0m 2ms/step - accuracy: 0.9492 - loss: 0.1475 - val_accuracy: 0.9321 - val_loss: 0.1579\n",
            "Epoch 10/10\n",
            "\u001b[1m342/342\u001b[0m \u001b[32m━━━━━━━━━━━━━━━━━━━━\u001b[0m\u001b[37m\u001b[0m \u001b[1m1s\u001b[0m 2ms/step - accuracy: 0.9517 - loss: 0.1386 - val_accuracy: 0.9368 - val_loss: 0.1486\n"
          ]
        },
        {
          "output_type": "execute_result",
          "data": {
            "text/plain": [
              "<keras.src.callbacks.history.History at 0x7f1895a46890>"
            ]
          },
          "metadata": {},
          "execution_count": 20
        }
      ]
    },
    {
      "cell_type": "code",
      "source": [
        "model.evaluate(X_test,y_test)"
      ],
      "metadata": {
        "id": "p19NlQU5HPP3"
      },
      "execution_count": null,
      "outputs": []
    },
    {
      "cell_type": "code",
      "source": [
        "print('loss:',model.evaluate(X_test,y_test)[0])\n",
        "print('accuracy:',model.evaluate(X_test,y_test)[1])"
      ],
      "metadata": {
        "id": "O8LW3eGQHPXC",
        "colab": {
          "base_uri": "https://localhost:8080/"
        },
        "outputId": "96596a98-75d7-47d4-a215-6ed54d720d55"
      },
      "execution_count": null,
      "outputs": [
        {
          "output_type": "stream",
          "name": "stdout",
          "text": [
            "\u001b[1m27/27\u001b[0m \u001b[32m━━━━━━━━━━━━━━━━━━━━\u001b[0m\u001b[37m\u001b[0m \u001b[1m0s\u001b[0m 1ms/step - accuracy: 0.9422 - loss: 0.1506 \n",
            "loss: 0.14858192205429077\n",
            "\u001b[1m27/27\u001b[0m \u001b[32m━━━━━━━━━━━━━━━━━━━━\u001b[0m\u001b[37m\u001b[0m \u001b[1m0s\u001b[0m 1ms/step - accuracy: 0.9422 - loss: 0.1506 \n",
            "accuracy: 0.9367681741714478\n"
          ]
        }
      ]
    }
  ]
}